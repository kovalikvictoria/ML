{
 "cells": [
  {
   "cell_type": "code",
   "execution_count": 1,
   "metadata": {},
   "outputs": [],
   "source": [
    "import re\n",
    "import numpy as np\n",
    "import pandas as pd\n",
    "import seaborn as sns\n",
    "\n",
    "import nltk\n",
    "from nltk.corpus import stopwords\n",
    "from nltk.stem.porter import PorterStemmer\n",
    "\n",
    "import matplotlib.pyplot as plt\n",
    "%matplotlib inline\n",
    "\n",
    "from sklearn.feature_extraction.text import TfidfVectorizer\n",
    "from sklearn.linear_model import LogisticRegression\n",
    "from sklearn.preprocessing import LabelEncoder, OneHotEncoder\n",
    "from sklearn.datasets import fetch_20newsgroups\n",
    "from sklearn.model_selection import train_test_split\n",
    "from sklearn.metrics import confusion_matrix, classification_report"
   ]
  },
  {
   "cell_type": "markdown",
   "metadata": {},
   "source": [
    "# Load and preprocess data"
   ]
  },
  {
   "cell_type": "code",
   "execution_count": 2,
   "metadata": {},
   "outputs": [],
   "source": [
    "# For text cleaning\n",
    "\n",
    "HEADERS = [\n",
    "    'From', 'Subject', 'To', 'Reply-To', 'In-Reply-To', 'Apparently-To',\n",
    "    'Original-Sender', 'Originator', 'Moderator', 'Organization', 'Keywords',\n",
    "    'Distribution', 'NNTP-Posting-Host', 'Lines', 'Summary', 'Supersedes',\n",
    "    'X-Bytes', 'X-Disclaimer', 'X-Mailer', 'X-Newsreader', 'X-News-Reader',\n",
    "    'X-Gated-By', 'X-Added', 'X-Status',\n",
    "    'OD-Comment-To', 'Expires', 'Disclaimer', 'Article-I.D.', \n",
    "    'News-Software',  'Nf-ID', 'Mime-Version'\n",
    "]\n",
    "\n",
    "RE_EMAIL = re.compile('<?.*@.*>?', re.M)\n",
    "RE_LINE_BREAK = re.compile('\\\\n+', re.M)\n",
    "RE_CITATION = re.compile('^.*writes:$', re.M)\n",
    "RE_CITATION_QUOTES = re.compile('(\\W+|^)(\\|>|>|\\|)+', re.M)\n",
    "RE_HEADERS = re.compile('^(%s):.*$' % '|'.join(HEADERS), re.M|re.I)\n",
    "STOP_WORDS = set(stopwords.words('english'))\n",
    "STEMMER = PorterStemmer()\n",
    "\n",
    "TEXT_LENS = []\n",
    "\n",
    "def load():\n",
    "    ng = fetch_20newsgroups(subset='all', shuffle=False)\n",
    "\n",
    "    return pd.DataFrame.from_dict({\n",
    "        'text': _clean(ng.data),\n",
    "        'group': np.take(ng.target_names, ng.target)\n",
    "    })\n",
    "\n",
    "def _clean(docs):\n",
    "    docs = map(rm_headers, docs)\n",
    "    docs = map(rm_citation, docs)\n",
    "    docs = map(rm_citation_quotes, docs)\n",
    "    docs = map(rm_email, docs)\n",
    "    docs = map(rm_nums, docs)\n",
    "    docs = map(rm_line_break, docs)\n",
    "    docs = map(to_lower, docs)\n",
    "    docs = map(rm_stopwords, docs)\n",
    "    docs = map(rm_too_short_long, docs)\n",
    "    docs = map(stem_words, docs)\n",
    "    \n",
    "    return list(docs)\n",
    "\n",
    "def rm_citation(doc):\n",
    "    return RE_CITATION.sub('', doc)\n",
    "\n",
    "def rm_citation_quotes(doc):\n",
    "    return RE_CITATION_QUOTES.sub(r'\\1', doc)\n",
    "\n",
    "def rm_email(doc):\n",
    "    return RE_EMAIL.sub('<email>', doc)\n",
    "\n",
    "def rm_line_break(doc):\n",
    "    return RE_LINE_BREAK.sub(' ', doc).strip('\\n\\t ')\n",
    "\n",
    "def rm_headers(doc):\n",
    "    return RE_HEADERS.sub('', doc)\n",
    "\n",
    "# addition\n",
    "def rm_nums(doc):\n",
    "    return re.sub('[^a-zA-Z]', ' ', doc)\n",
    "\n",
    "def rm_files(doc):\n",
    "    if doc.find('begin') > -1:\n",
    "        if doc.find('end') > -1:\n",
    "            doc = doc[0:doc.find('begin')] + doc[doc.find('end')+3:]\n",
    "    return doc\n",
    "\n",
    "def to_lower(doc):\n",
    "    return doc.lower()\n",
    "\n",
    "def rm_stopwords(doc):\n",
    "    doc = doc.split()\n",
    "    doc = [w for w in doc if not w in STOP_WORDS]\n",
    "    return ' '.join(doc)\n",
    "\n",
    "def rm_too_short_long(doc):\n",
    "    doc = doc.split()\n",
    "    doc = [w for w in doc if len(w) >=3 and len(w) <= 15]\n",
    "    return ' '.join(doc)\n",
    "\n",
    "def stem_words(doc):\n",
    "    doc = doc.split()\n",
    "    doc = [STEMMER.stem(w) for w in doc]\n",
    "    TEXT_LENS.append(len(doc))\n",
    "    return ' '.join(doc)"
   ]
  },
  {
   "cell_type": "code",
   "execution_count": 3,
   "metadata": {},
   "outputs": [],
   "source": [
    "data = load()"
   ]
  },
  {
   "cell_type": "code",
   "execution_count": 4,
   "metadata": {},
   "outputs": [
    {
     "data": {
      "text/html": [
       "<div>\n",
       "<style scoped>\n",
       "    .dataframe tbody tr th:only-of-type {\n",
       "        vertical-align: middle;\n",
       "    }\n",
       "\n",
       "    .dataframe tbody tr th {\n",
       "        vertical-align: top;\n",
       "    }\n",
       "\n",
       "    .dataframe thead th {\n",
       "        text-align: right;\n",
       "    }\n",
       "</style>\n",
       "<table border=\"1\" class=\"dataframe\">\n",
       "  <thead>\n",
       "    <tr style=\"text-align: right;\">\n",
       "      <th></th>\n",
       "      <th>text</th>\n",
       "      <th>group</th>\n",
       "    </tr>\n",
       "  </thead>\n",
       "  <tbody>\n",
       "    <tr>\n",
       "      <th>0</th>\n",
       "      <td>morgan guzman era run higher last year cub idi...</td>\n",
       "      <td>rec.sport.baseball</td>\n",
       "    </tr>\n",
       "    <tr>\n",
       "      <th>1</th>\n",
       "      <td>well got centri yesterday took two week place ...</td>\n",
       "      <td>comp.sys.mac.hardware</td>\n",
       "    </tr>\n",
       "    <tr>\n",
       "      <th>2</th>\n",
       "      <td>histori classic method modern method survey re...</td>\n",
       "      <td>sci.crypt</td>\n",
       "    </tr>\n",
       "    <tr>\n",
       "      <th>3</th>\n",
       "      <td>attent mac quadra owner mani storag industri e...</td>\n",
       "      <td>comp.sys.mac.hardware</td>\n",
       "    </tr>\n",
       "    <tr>\n",
       "      <th>4</th>\n",
       "      <td>show exampl other provid counter exampl suppos...</td>\n",
       "      <td>alt.atheism</td>\n",
       "    </tr>\n",
       "    <tr>\n",
       "      <th>...</th>\n",
       "      <td>...</td>\n",
       "      <td>...</td>\n",
       "    </tr>\n",
       "    <tr>\n",
       "      <th>18841</th>\n",
       "      <td>circuit board green materi use make goe two na...</td>\n",
       "      <td>sci.electronics</td>\n",
       "    </tr>\n",
       "    <tr>\n",
       "      <th>18842</th>\n",
       "      <td>bike luckili guy stop foot behind rear wheel u...</td>\n",
       "      <td>rec.motorcycles</td>\n",
       "    </tr>\n",
       "    <tr>\n",
       "      <th>18843</th>\n",
       "      <td>told resolut fge could could anybodi tri run h...</td>\n",
       "      <td>comp.sys.mac.hardware</td>\n",
       "    </tr>\n",
       "    <tr>\n",
       "      <th>18844</th>\n",
       "      <td>cad setup sale plb local bu motherboard use si...</td>\n",
       "      <td>misc.forsale</td>\n",
       "    </tr>\n",
       "    <tr>\n",
       "      <th>18845</th>\n",
       "      <td>email path eclips yktnew watson ibm com hawnew...</td>\n",
       "      <td>rec.autos</td>\n",
       "    </tr>\n",
       "  </tbody>\n",
       "</table>\n",
       "<p>18846 rows × 2 columns</p>\n",
       "</div>"
      ],
      "text/plain": [
       "                                                    text  \\\n",
       "0      morgan guzman era run higher last year cub idi...   \n",
       "1      well got centri yesterday took two week place ...   \n",
       "2      histori classic method modern method survey re...   \n",
       "3      attent mac quadra owner mani storag industri e...   \n",
       "4      show exampl other provid counter exampl suppos...   \n",
       "...                                                  ...   \n",
       "18841  circuit board green materi use make goe two na...   \n",
       "18842  bike luckili guy stop foot behind rear wheel u...   \n",
       "18843  told resolut fge could could anybodi tri run h...   \n",
       "18844  cad setup sale plb local bu motherboard use si...   \n",
       "18845  email path eclips yktnew watson ibm com hawnew...   \n",
       "\n",
       "                       group  \n",
       "0         rec.sport.baseball  \n",
       "1      comp.sys.mac.hardware  \n",
       "2                  sci.crypt  \n",
       "3      comp.sys.mac.hardware  \n",
       "4                alt.atheism  \n",
       "...                      ...  \n",
       "18841        sci.electronics  \n",
       "18842        rec.motorcycles  \n",
       "18843  comp.sys.mac.hardware  \n",
       "18844           misc.forsale  \n",
       "18845              rec.autos  \n",
       "\n",
       "[18846 rows x 2 columns]"
      ]
     },
     "execution_count": 4,
     "metadata": {},
     "output_type": "execute_result"
    }
   ],
   "source": [
    "data"
   ]
  },
  {
   "cell_type": "markdown",
   "metadata": {},
   "source": [
    "# Split all data into train and test set"
   ]
  },
  {
   "cell_type": "code",
   "execution_count": 5,
   "metadata": {},
   "outputs": [],
   "source": [
    "train, test = train_test_split(data, test_size=0.2, random_state=42, stratify=data.group)"
   ]
  },
  {
   "cell_type": "markdown",
   "metadata": {},
   "source": [
    "#### Train Set:"
   ]
  },
  {
   "cell_type": "code",
   "execution_count": 6,
   "metadata": {},
   "outputs": [
    {
     "data": {
      "text/plain": [
       "(15076, 2)"
      ]
     },
     "execution_count": 6,
     "metadata": {},
     "output_type": "execute_result"
    }
   ],
   "source": [
    "train.shape"
   ]
  },
  {
   "cell_type": "markdown",
   "metadata": {},
   "source": [
    "#### Test Set:"
   ]
  },
  {
   "cell_type": "code",
   "execution_count": 7,
   "metadata": {},
   "outputs": [
    {
     "data": {
      "text/plain": [
       "(3770, 2)"
      ]
     },
     "execution_count": 7,
     "metadata": {},
     "output_type": "execute_result"
    }
   ],
   "source": [
    "test.shape"
   ]
  },
  {
   "cell_type": "markdown",
   "metadata": {},
   "source": [
    "#### Train-Set label distribution:"
   ]
  },
  {
   "cell_type": "code",
   "execution_count": 8,
   "metadata": {},
   "outputs": [
    {
     "data": {
      "text/plain": [
       "rec.sport.hockey            799\n",
       "soc.religion.christian      798\n",
       "rec.motorcycles             797\n",
       "rec.sport.baseball          795\n",
       "sci.crypt                   793\n",
       "sci.med                     792\n",
       "rec.autos                   792\n",
       "sci.space                   790\n",
       "comp.windows.x              790\n",
       "comp.os.ms-windows.misc     788\n",
       "sci.electronics             787\n",
       "comp.sys.ibm.pc.hardware    786\n",
       "misc.forsale                780\n",
       "comp.graphics               778\n",
       "comp.sys.mac.hardware       770\n",
       "talk.politics.mideast       752\n",
       "talk.politics.guns          728\n",
       "alt.atheism                 639\n",
       "talk.politics.misc          620\n",
       "talk.religion.misc          502\n",
       "Name: group, dtype: int64"
      ]
     },
     "execution_count": 8,
     "metadata": {},
     "output_type": "execute_result"
    }
   ],
   "source": [
    "train.group.value_counts()"
   ]
  },
  {
   "cell_type": "markdown",
   "metadata": {},
   "source": [
    "#### Test-Set label distribution"
   ]
  },
  {
   "cell_type": "code",
   "execution_count": 9,
   "metadata": {},
   "outputs": [
    {
     "data": {
      "text/plain": [
       "rec.sport.hockey            200\n",
       "rec.sport.baseball          199\n",
       "soc.religion.christian      199\n",
       "rec.motorcycles             199\n",
       "sci.med                     198\n",
       "sci.crypt                   198\n",
       "comp.windows.x              198\n",
       "rec.autos                   198\n",
       "comp.os.ms-windows.misc     197\n",
       "sci.electronics             197\n",
       "sci.space                   197\n",
       "comp.sys.ibm.pc.hardware    196\n",
       "comp.graphics               195\n",
       "misc.forsale                195\n",
       "comp.sys.mac.hardware       193\n",
       "talk.politics.mideast       188\n",
       "talk.politics.guns          182\n",
       "alt.atheism                 160\n",
       "talk.politics.misc          155\n",
       "talk.religion.misc          126\n",
       "Name: group, dtype: int64"
      ]
     },
     "execution_count": 9,
     "metadata": {},
     "output_type": "execute_result"
    }
   ],
   "source": [
    "test.group.value_counts()"
   ]
  },
  {
   "cell_type": "markdown",
   "metadata": {},
   "source": [
    "# Encode text using TF-IDF"
   ]
  },
  {
   "cell_type": "code",
   "execution_count": 10,
   "metadata": {},
   "outputs": [
    {
     "data": {
      "text/plain": [
       "6004"
      ]
     },
     "execution_count": 10,
     "metadata": {},
     "output_type": "execute_result"
    }
   ],
   "source": [
    "# Lenght of the longest text - compute with text cleaning\n",
    "max(TEXT_LENS)"
   ]
  },
  {
   "cell_type": "code",
   "execution_count": 11,
   "metadata": {},
   "outputs": [],
   "source": [
    "tfidf = TfidfVectorizer(max_features=max(TEXT_LENS)).fit(train.text)"
   ]
  },
  {
   "cell_type": "code",
   "execution_count": 12,
   "metadata": {},
   "outputs": [
    {
     "data": {
      "text/plain": [
       "[(0, 'aaa'),\n",
       " (1, 'aaron'),\n",
       " (2, 'ab'),\n",
       " (3, 'abandon'),\n",
       " (4, 'abc'),\n",
       " (5, 'abid'),\n",
       " (6, 'abil'),\n",
       " (7, 'abl'),\n",
       " (8, 'abolish'),\n",
       " (9, 'abomin')]"
      ]
     },
     "execution_count": 12,
     "metadata": {},
     "output_type": "execute_result"
    }
   ],
   "source": [
    "keys = sorted((key, token) for token, key in tfidf.vocabulary_.items())\n",
    "keys[:10]"
   ]
  },
  {
   "cell_type": "markdown",
   "metadata": {},
   "source": [
    "#### Encode train and test sets using same vocabulary"
   ]
  },
  {
   "cell_type": "code",
   "execution_count": 13,
   "metadata": {},
   "outputs": [
    {
     "name": "stdout",
     "output_type": "stream",
     "text": [
      "X_train shape: (15076, 6004)\n",
      "X_test shape: (3770, 6004)\n"
     ]
    }
   ],
   "source": [
    "X_train = tfidf.transform(train.text).toarray()\n",
    "print('X_train shape: %s' % (X_train.shape,))\n",
    "\n",
    "X_test = tfidf.transform(test.text).toarray()\n",
    "print('X_test shape: %s' % (X_test.shape,))"
   ]
  },
  {
   "cell_type": "markdown",
   "metadata": {},
   "source": [
    "# Convert labels to integer values"
   ]
  },
  {
   "cell_type": "markdown",
   "metadata": {},
   "source": [
    "#### Fit label encoder:"
   ]
  },
  {
   "cell_type": "code",
   "execution_count": 14,
   "metadata": {},
   "outputs": [],
   "source": [
    "label_encoder = LabelEncoder().fit(train.group)"
   ]
  },
  {
   "cell_type": "markdown",
   "metadata": {},
   "source": [
    "#### Known labels:"
   ]
  },
  {
   "cell_type": "code",
   "execution_count": 15,
   "metadata": {},
   "outputs": [
    {
     "data": {
      "text/plain": [
       "array(['alt.atheism', 'comp.graphics', 'comp.os.ms-windows.misc',\n",
       "       'comp.sys.ibm.pc.hardware', 'comp.sys.mac.hardware',\n",
       "       'comp.windows.x', 'misc.forsale', 'rec.autos', 'rec.motorcycles',\n",
       "       'rec.sport.baseball', 'rec.sport.hockey', 'sci.crypt',\n",
       "       'sci.electronics', 'sci.med', 'sci.space',\n",
       "       'soc.religion.christian', 'talk.politics.guns',\n",
       "       'talk.politics.mideast', 'talk.politics.misc',\n",
       "       'talk.religion.misc'], dtype=object)"
      ]
     },
     "execution_count": 15,
     "metadata": {},
     "output_type": "execute_result"
    }
   ],
   "source": [
    "label_encoder.classes_"
   ]
  },
  {
   "cell_type": "markdown",
   "metadata": {},
   "source": [
    "#### Convert labels using encoder:"
   ]
  },
  {
   "cell_type": "code",
   "execution_count": 16,
   "metadata": {},
   "outputs": [
    {
     "name": "stdout",
     "output_type": "stream",
     "text": [
      "Y_train shape: (15076,)\n",
      "Y_test shape: (3770,)\n"
     ]
    }
   ],
   "source": [
    "Y_train = label_encoder.transform(train.group)\n",
    "print('Y_train shape: %s' % (Y_train.shape,))\n",
    "\n",
    "Y_test = label_encoder.transform(test.group)\n",
    "print('Y_test shape: %s' % (Y_test.shape,))"
   ]
  },
  {
   "cell_type": "markdown",
   "metadata": {},
   "source": [
    "# Classification with custom Neural Network"
   ]
  },
  {
   "cell_type": "markdown",
   "metadata": {},
   "source": [
    "#### Transform Y_train:"
   ]
  },
  {
   "cell_type": "code",
   "execution_count": 17,
   "metadata": {},
   "outputs": [
    {
     "data": {
      "text/plain": [
       "(15076, 20)"
      ]
     },
     "execution_count": 17,
     "metadata": {},
     "output_type": "execute_result"
    }
   ],
   "source": [
    "Y_train_transf = OneHotEncoder().fit_transform(Y_train.reshape(-1, 1)).toarray()\n",
    "Y_train_transf.shape"
   ]
  },
  {
   "cell_type": "code",
   "execution_count": 18,
   "metadata": {},
   "outputs": [],
   "source": [
    "class NeuralNet:\n",
    "    \"\"\"\n",
    "    NN for multi-class classification with mini-batch\n",
    "    Attributes:\n",
    "    ...\n",
    "    \"\"\"    \n",
    "    def __init__(self, mbgd_size, neurons_in_layers, normalize = True, learning_rate = 0.01, num_iter = 30000):\n",
    "        self.mbgd_size = mbgd_size\n",
    "        self.neurons_in_layers = neurons_in_layers\n",
    "        self.learning_rate = learning_rate\n",
    "        self.num_iter = num_iter\n",
    "        self.normalize = normalize\n",
    "    \n",
    "    def __normalize(self, X, mean = None, std = None):\n",
    "        n = X.shape[0]\n",
    "        m = mean\n",
    "        if m is None:\n",
    "            m = np.mean(X, axis=1).reshape((n, 1))\n",
    "        s = std\n",
    "        if s is None:\n",
    "            s = np.std(X, axis=1).reshape((n, 1))\n",
    "        X_new = (X - m) / s**2\n",
    "        return X_new, m, s\n",
    "    \n",
    "    def __sigmoid(self, Z):\n",
    "        return 1 / (1 + np.exp(-Z))\n",
    "    \n",
    "    def __softmax(self, Z):\n",
    "        eZ = np.exp(Z - np.max(Z))\n",
    "        return eZ / np.sum(eZ, axis=0, keepdims=True)\n",
    "\n",
    "    def __initialize_parameters(self):\n",
    "        neurons_in_layers = self.neurons_in_layers\n",
    "        parameters = {}\n",
    "        for i in range(1, len(neurons_in_layers)):\n",
    "            parameters[\"W\" + str(i)] = np.random.randn(neurons_in_layers[i], neurons_in_layers[i - 1]) * np.sqrt(1 / neurons_in_layers[i - 1])\n",
    "            parameters[\"b\" + str(i)] = np.zeros((neurons_in_layers[i], 1))\n",
    "        self.parameters = parameters\n",
    "       \n",
    "    def __forward_propagation(self, X):\n",
    "        parameters = self.parameters\n",
    "        caches = []\n",
    "        A = X\n",
    "        L = len(parameters) // 2\n",
    "\n",
    "        for i in range(1, L):\n",
    "            prev_A = A\n",
    "            W = parameters[\"W\"+str(i)]\n",
    "            b = parameters[\"b\"+str(i)]\n",
    "            \n",
    "            Z = np.dot(W, prev_A) + b\n",
    "            linear_cache = (prev_A, W, b)\n",
    "            \n",
    "            A = self.__sigmoid(Z)\n",
    "            activation_cache = Z\n",
    "            \n",
    "            cache = (linear_cache, activation_cache)            \n",
    "            caches.append(cache)   \n",
    "            \n",
    "        W = parameters[\"W\"+str(L)]\n",
    "        b = parameters[\"b\"+str(L)]\n",
    "        \n",
    "        Z = np.dot(W, A) + b\n",
    "        linear_cache = (A, W, b)\n",
    "            \n",
    "        AL = self.__softmax(Z)\n",
    "        activation_cache = Z\n",
    "            \n",
    "        cache = (linear_cache, activation_cache)            \n",
    "        caches.append(cache)  \n",
    "        \n",
    "        return AL, caches\n",
    "    \n",
    "    def compute_cost(self, A, Y):\n",
    "        J = -np.mean(Y.T * np.log(A.T+ 1e-8))\n",
    "        return J\n",
    "        \n",
    "    def __backward_propagation(self, X, Y, caches):\n",
    "        grads = {}\n",
    "        AL = X\n",
    "        L = len(caches)\n",
    "        m = AL.shape[1]\n",
    "        Y = Y.reshape(AL.shape)\n",
    "        dAL = -(np.divide(Y, AL) - np.divide(1 - Y, 1 - AL))\n",
    "        \n",
    "        linear_cache, activation_cache = caches[L-1]\n",
    "        Z = activation_cache\n",
    "        s = self.__softmax(Z)\n",
    "        dZ = dAL * s * (1 - s)\n",
    "        prev_A, W, b = linear_cache\n",
    "        m = prev_A.shape[1]\n",
    "        dW = 1 / m * np.dot(dZ, prev_A.T)\n",
    "        db = 1 / m * np.sum(dZ, axis=1, keepdims=True)\n",
    "        prev_dA = np.dot(W.T, dZ)\n",
    "        \n",
    "        grads[\"dA\" + str(L-1)] = prev_dA\n",
    "        grads[\"dW\" + str(L)] = dW\n",
    "        grads[\"db\" + str(L)] = db\n",
    "        \n",
    "        for i in reversed(range(L-1)):\n",
    "            linear_cache, activation_cache = caches[i]\n",
    "            Z = activation_cache\n",
    "            s = self.__sigmoid(Z)\n",
    "            dZ = prev_dA * s * (1 - s)\n",
    "            prev_A, W, b = linear_cache\n",
    "            m = prev_A.shape[1]\n",
    "            dW = 1 / m * np.dot(dZ, prev_A.T)\n",
    "            db = 1 / m * np.sum(dZ, axis=1, keepdims=True)\n",
    "            prev_dA = np.dot(W.T, dZ)\n",
    "            \n",
    "            grads[\"dA\" + str(i)] = prev_dA\n",
    "            grads[\"dW\" + str(i + 1)] = dW\n",
    "            grads[\"db\" + str(i + 1)] = db\n",
    "        return grads\n",
    "   \n",
    "    def __update_parameters(self, grads):\n",
    "        parameters = self.parameters\n",
    "        learning_rate = self.learning_rate\n",
    "\n",
    "        for i in range(len(parameters) // 2):\n",
    "            parameters[\"W\" + str(i+1)] = parameters[\"W\" + str(i+1)] - learning_rate * grads[\"dW\" + str(i+1)]\n",
    "            parameters[\"b\" + str(i+1)] = parameters[\"b\" + str(i+1)] - learning_rate * grads[\"db\" + str(i+1)]\n",
    "            \n",
    "        self.parameters = parameters\n",
    "        \n",
    "    def __shuffle_and_separate(self, X, Y):            \n",
    "        m = X.shape[1]\n",
    "        SS_data = [] #for shuffled and separated data\n",
    "        mbgd_size = self.mbgd_size\n",
    "        \n",
    "        perm = list(np.random.permutation(m))\n",
    "        shuff_X = X[:, perm]        \n",
    "        shuff_Y = Y[:, perm]\n",
    "\n",
    "        for i in range(0, int(np.floor(m/mbgd_size))):\n",
    "            batch_X = shuff_X[:, i*mbgd_size : (i + 1)*mbgd_size]\n",
    "            batch_Y = shuff_Y[:, i*mbgd_size : (i + 1)*mbgd_size]\n",
    "            \n",
    "            batch = (batch_X, batch_Y)\n",
    "            SS_data.append(batch)\n",
    "\n",
    "        if m % mbgd_size != 0:\n",
    "            batch_X = shuff_X[:, int(np.floor(m/mbgd_size))*mbgd_size:]\n",
    "            batch_Y = shuff_Y[:, int(np.floor(m/mbgd_size))*mbgd_size:]\n",
    "            \n",
    "            batch = (batch_X, batch_Y)\n",
    "            SS_data.append(batch)\n",
    "\n",
    "        return SS_data\n",
    "        \n",
    "    def fit(self, X_vert, Y_vert, print_cost = True):\n",
    "        \n",
    "        X, Y = X_vert.T, Y_vert.T\n",
    "        \n",
    "        if self.normalize:\n",
    "            X, self.__mean, self.__std = self.__normalize(X)\n",
    "        \n",
    "        m = X.shape[1]\n",
    "        costs = []\n",
    "        \n",
    "        self.__initialize_parameters()\n",
    "\n",
    "        for i in range(0, self.num_iter):\n",
    "            SS_data = self.__shuffle_and_separate(X, Y)\n",
    "            \n",
    "            for (batch_X, batch_Y) in SS_data:\n",
    "                A, caches = self.__forward_propagation(batch_X)\n",
    "\n",
    "                cost = self.compute_cost(A, batch_Y)\n",
    "\n",
    "                grads = self.__backward_propagation(A, batch_Y, caches)\n",
    "\n",
    "                self.__update_parameters(grads)\n",
    "            \n",
    "            costs.append(cost)\n",
    "\n",
    "            if print_cost and i % 10 == 0:\n",
    "                print(\"{}-th iteration: {}\".format(i, cost))\n",
    "\n",
    "            if i % 10 == 0:\n",
    "                costs.append(cost)\n",
    "\n",
    "        if print_cost:\n",
    "            plt.plot(costs)\n",
    "            plt.ylabel(\"Cost\")\n",
    "            plt.xlabel(\"Iteration\")\n",
    "            plt.show()\n",
    "    \n",
    "    def predict_proba(self, X_vert):\n",
    "        X = X_vert.T\n",
    "        if self.normalize:\n",
    "            X, _, _ = self.__normalize(X, self.__mean, self.__std)\n",
    "        \n",
    "        probs = self.__forward_propagation(X)[0]\n",
    "        return probs.T\n",
    "    \n",
    "    def predict(self, X_vert):\n",
    "        positive_probs = self.predict_proba(X_vert)\n",
    "        return np.argmax(positive_probs, axis = 1)"
   ]
  },
  {
   "cell_type": "markdown",
   "metadata": {},
   "source": [
    "#### Layer dims:"
   ]
  },
  {
   "cell_type": "code",
   "execution_count": 19,
   "metadata": {},
   "outputs": [],
   "source": [
    "input_layer = X_train.shape[1]\n",
    "output_layer = Y_train_transf.shape[1]"
   ]
  },
  {
   "cell_type": "code",
   "execution_count": 20,
   "metadata": {},
   "outputs": [],
   "source": [
    "clf = NeuralNet(mbgd_size = 1024, neurons_in_layers = [input_layer, 40, output_layer], normalize = True, learning_rate = 0.09, num_iter = 50)"
   ]
  },
  {
   "cell_type": "code",
   "execution_count": 21,
   "metadata": {},
   "outputs": [
    {
     "name": "stderr",
     "output_type": "stream",
     "text": [
      "c:\\users\\vika\\appdata\\local\\programs\\python\\python36\\lib\\site-packages\\ipykernel_launcher.py:26: RuntimeWarning: overflow encountered in exp\n"
     ]
    },
    {
     "name": "stdout",
     "output_type": "stream",
     "text": [
      "0-th iteration: 0.1380780371764733\n",
      "10-th iteration: 0.07665032642374642\n",
      "20-th iteration: 0.05198216566349291\n",
      "30-th iteration: 0.041560062751271346\n",
      "40-th iteration: 0.033095811107744275\n"
     ]
    },
    {
     "data": {
      "image/png": "[encoded data removed]",
      "text/plain": [
       "<Figure size 432x288 with 1 Axes>"
      ]
     },
     "metadata": {
      "needs_background": "light"
     },
     "output_type": "display_data"
    }
   ],
   "source": [
    "clf.fit(X_train, Y_train_transf)"
   ]
  },
  {
   "cell_type": "markdown",
   "metadata": {},
   "source": [
    "#### Train report:"
   ]
  },
  {
   "cell_type": "code",
   "execution_count": 22,
   "metadata": {},
   "outputs": [
    {
     "name": "stderr",
     "output_type": "stream",
     "text": [
      "c:\\users\\vika\\appdata\\local\\programs\\python\\python36\\lib\\site-packages\\ipykernel_launcher.py:26: RuntimeWarning: overflow encountered in exp\n"
     ]
    }
   ],
   "source": [
    "Y_train_hat = clf.predict(X_train)"
   ]
  },
  {
   "cell_type": "code",
   "execution_count": 23,
   "metadata": {},
   "outputs": [
    {
     "name": "stdout",
     "output_type": "stream",
     "text": [
      "Classification report:\n",
      "                          precision    recall  f1-score   support\n",
      "\n",
      "             alt.atheism       0.81      0.82      0.82       639\n",
      "           comp.graphics       0.81      0.83      0.82       778\n",
      " comp.os.ms-windows.misc       0.81      0.81      0.81       788\n",
      "comp.sys.ibm.pc.hardware       0.80      0.83      0.81       786\n",
      "   comp.sys.mac.hardware       0.86      0.85      0.85       770\n",
      "          comp.windows.x       0.87      0.89      0.88       790\n",
      "            misc.forsale       0.85      0.83      0.84       780\n",
      "               rec.autos       0.88      0.87      0.87       792\n",
      "         rec.motorcycles       0.89      0.89      0.89       797\n",
      "      rec.sport.baseball       0.93      0.93      0.93       795\n",
      "        rec.sport.hockey       0.94      0.94      0.94       799\n",
      "               sci.crypt       0.92      0.91      0.92       793\n",
      "         sci.electronics       0.85      0.84      0.84       787\n",
      "                 sci.med       0.90      0.92      0.91       792\n",
      "               sci.space       0.89      0.90      0.89       790\n",
      "  soc.religion.christian       0.83      0.88      0.86       798\n",
      "      talk.politics.guns       0.83      0.88      0.85       728\n",
      "   talk.politics.mideast       0.91      0.92      0.92       752\n",
      "      talk.politics.misc       0.83      0.79      0.81       620\n",
      "      talk.religion.misc       0.81      0.63      0.71       502\n",
      "\n",
      "                accuracy                           0.86     15076\n",
      "               macro avg       0.86      0.86      0.86     15076\n",
      "            weighted avg       0.86      0.86      0.86     15076\n",
      "\n",
      "Confusion matrix:\n",
      "AxesSubplot(0.125,0.125;0.62x0.755)\n"
     ]
    },
    {
     "data": {
      "image/png": "[encoded data removed]",
      "text/plain": [
       "<Figure size 432x288 with 2 Axes>"
      ]
     },
     "metadata": {
      "needs_background": "light"
     },
     "output_type": "display_data"
    }
   ],
   "source": [
    "print(\"Classification report:\")\n",
    "print(classification_report(Y_train, Y_train_hat, target_names=label_encoder.classes_))\n",
    "print(\"Confusion matrix:\")\n",
    "print(sns.heatmap(confusion_matrix(Y_train, Y_train_hat)))"
   ]
  },
  {
   "cell_type": "markdown",
   "metadata": {
    "scrolled": true
   },
   "source": [
    "#### Test report:"
   ]
  },
  {
   "cell_type": "code",
   "execution_count": 24,
   "metadata": {},
   "outputs": [
    {
     "name": "stderr",
     "output_type": "stream",
     "text": [
      "c:\\users\\vika\\appdata\\local\\programs\\python\\python36\\lib\\site-packages\\ipykernel_launcher.py:26: RuntimeWarning: overflow encountered in exp\n"
     ]
    }
   ],
   "source": [
    "Y_test_hat = clf.predict(X_test)"
   ]
  },
  {
   "cell_type": "code",
   "execution_count": 25,
   "metadata": {},
   "outputs": [
    {
     "name": "stdout",
     "output_type": "stream",
     "text": [
      "Classification report:\n",
      "                          precision    recall  f1-score   support\n",
      "\n",
      "             alt.atheism       0.61      0.58      0.60       160\n",
      "           comp.graphics       0.56      0.59      0.58       195\n",
      " comp.os.ms-windows.misc       0.57      0.51      0.54       197\n",
      "comp.sys.ibm.pc.hardware       0.56      0.56      0.56       196\n",
      "   comp.sys.mac.hardware       0.58      0.62      0.60       193\n",
      "          comp.windows.x       0.67      0.71      0.69       198\n",
      "            misc.forsale       0.64      0.56      0.60       195\n",
      "               rec.autos       0.71      0.62      0.66       198\n",
      "         rec.motorcycles       0.68      0.74      0.71       199\n",
      "      rec.sport.baseball       0.78      0.82      0.80       199\n",
      "        rec.sport.hockey       0.88      0.82      0.85       200\n",
      "               sci.crypt       0.77      0.73      0.75       198\n",
      "         sci.electronics       0.58      0.57      0.57       197\n",
      "                 sci.med       0.76      0.75      0.76       198\n",
      "               sci.space       0.67      0.79      0.73       197\n",
      "  soc.religion.christian       0.70      0.76      0.73       199\n",
      "      talk.politics.guns       0.67      0.75      0.71       182\n",
      "   talk.politics.mideast       0.79      0.78      0.79       188\n",
      "      talk.politics.misc       0.59      0.59      0.59       155\n",
      "      talk.religion.misc       0.58      0.47      0.52       126\n",
      "\n",
      "                accuracy                           0.67      3770\n",
      "               macro avg       0.67      0.67      0.67      3770\n",
      "            weighted avg       0.67      0.67      0.67      3770\n",
      "\n",
      "Confusion matrix:\n",
      "AxesSubplot(0.125,0.125;0.62x0.755)\n"
     ]
    },
    {
     "data": {
      "image/png": "[encoded data removed]",
      "text/plain": [
       "<Figure size 432x288 with 2 Axes>"
      ]
     },
     "metadata": {
      "needs_background": "light"
     },
     "output_type": "display_data"
    }
   ],
   "source": [
    "print(\"Classification report:\")\n",
    "print(classification_report(Y_test, Y_test_hat, target_names=label_encoder.classes_))\n",
    "print(\"Confusion matrix:\")\n",
    "print(sns.heatmap(confusion_matrix(Y_test, Y_test_hat)))"
   ]
  },
  {
   "cell_type": "markdown",
   "metadata": {},
   "source": [
    "# Classification with Logistic Regression"
   ]
  },
  {
   "cell_type": "code",
   "execution_count": 26,
   "metadata": {},
   "outputs": [
    {
     "name": "stderr",
     "output_type": "stream",
     "text": [
      "c:\\users\\vika\\appdata\\local\\programs\\python\\python36\\lib\\site-packages\\sklearn\\linear_model\\_logistic.py:940: ConvergenceWarning: lbfgs failed to converge (status=1):\n",
      "STOP: TOTAL NO. of ITERATIONS REACHED LIMIT.\n",
      "\n",
      "Increase the number of iterations (max_iter) or scale the data as shown in:\n",
      "    https://scikit-learn.org/stable/modules/preprocessing.html\n",
      "Please also refer to the documentation for alternative solver options:\n",
      "    https://scikit-learn.org/stable/modules/linear_model.html#logistic-regression\n",
      "  extra_warning_msg=_LOGISTIC_SOLVER_CONVERGENCE_MSG)\n"
     ]
    }
   ],
   "source": [
    "clf = LogisticRegression().fit(X_train, Y_train)"
   ]
  },
  {
   "cell_type": "markdown",
   "metadata": {},
   "source": [
    "#### Train report:"
   ]
  },
  {
   "cell_type": "code",
   "execution_count": 27,
   "metadata": {},
   "outputs": [],
   "source": [
    "Y_train_hat = clf.predict(X_train)"
   ]
  },
  {
   "cell_type": "code",
   "execution_count": 28,
   "metadata": {},
   "outputs": [
    {
     "name": "stdout",
     "output_type": "stream",
     "text": [
      "Classification report:\n",
      "                          precision    recall  f1-score   support\n",
      "\n",
      "             alt.atheism       0.91      0.91      0.91       639\n",
      "           comp.graphics       0.86      0.90      0.88       778\n",
      " comp.os.ms-windows.misc       0.86      0.84      0.85       788\n",
      "comp.sys.ibm.pc.hardware       0.84      0.84      0.84       786\n",
      "   comp.sys.mac.hardware       0.91      0.91      0.91       770\n",
      "          comp.windows.x       0.92      0.91      0.91       790\n",
      "            misc.forsale       0.83      0.90      0.86       780\n",
      "               rec.autos       0.94      0.94      0.94       792\n",
      "         rec.motorcycles       0.97      0.96      0.96       797\n",
      "      rec.sport.baseball       0.97      0.98      0.98       795\n",
      "        rec.sport.hockey       0.99      0.98      0.99       799\n",
      "               sci.crypt       0.98      0.94      0.96       793\n",
      "         sci.electronics       0.89      0.91      0.90       787\n",
      "                 sci.med       0.96      0.97      0.96       792\n",
      "               sci.space       0.95      0.96      0.96       790\n",
      "  soc.religion.christian       0.90      0.94      0.92       798\n",
      "      talk.politics.guns       0.88      0.96      0.92       728\n",
      "   talk.politics.mideast       0.97      0.97      0.97       752\n",
      "      talk.politics.misc       0.93      0.87      0.90       620\n",
      "      talk.religion.misc       0.93      0.69      0.79       502\n",
      "\n",
      "                accuracy                           0.92     15076\n",
      "               macro avg       0.92      0.91      0.92     15076\n",
      "            weighted avg       0.92      0.92      0.92     15076\n",
      "\n",
      "Confusion matrix:\n",
      "AxesSubplot(0.125,0.125;0.62x0.755)\n"
     ]
    },
    {
     "data": {
      "image/png": "[encoded data removed]",
      "text/plain": [
       "<Figure size 432x288 with 2 Axes>"
      ]
     },
     "metadata": {
      "needs_background": "light"
     },
     "output_type": "display_data"
    }
   ],
   "source": [
    "print(\"Classification report:\")\n",
    "print(classification_report(Y_train, Y_train_hat, target_names=label_encoder.classes_))\n",
    "print(\"Confusion matrix:\")\n",
    "print(sns.heatmap(confusion_matrix(Y_train, Y_train_hat)))"
   ]
  },
  {
   "cell_type": "markdown",
   "metadata": {},
   "source": [
    "#### Test report:"
   ]
  },
  {
   "cell_type": "code",
   "execution_count": 29,
   "metadata": {},
   "outputs": [],
   "source": [
    "Y_test_hat = clf.predict(X_test)"
   ]
  },
  {
   "cell_type": "code",
   "execution_count": 30,
   "metadata": {},
   "outputs": [
    {
     "name": "stdout",
     "output_type": "stream",
     "text": [
      "Classification report:\n",
      "                          precision    recall  f1-score   support\n",
      "\n",
      "             alt.atheism       0.75      0.77      0.76       160\n",
      "           comp.graphics       0.72      0.83      0.77       195\n",
      " comp.os.ms-windows.misc       0.79      0.78      0.78       197\n",
      "comp.sys.ibm.pc.hardware       0.70      0.69      0.69       196\n",
      "   comp.sys.mac.hardware       0.83      0.75      0.79       193\n",
      "          comp.windows.x       0.78      0.80      0.79       198\n",
      "            misc.forsale       0.80      0.85      0.83       195\n",
      "               rec.autos       0.85      0.85      0.85       198\n",
      "         rec.motorcycles       0.94      0.89      0.92       199\n",
      "      rec.sport.baseball       0.95      0.94      0.95       199\n",
      "        rec.sport.hockey       0.96      0.93      0.94       200\n",
      "               sci.crypt       0.95      0.89      0.92       198\n",
      "         sci.electronics       0.77      0.80      0.79       197\n",
      "                 sci.med       0.87      0.91      0.89       198\n",
      "               sci.space       0.89      0.93      0.91       197\n",
      "  soc.religion.christian       0.83      0.89      0.86       199\n",
      "      talk.politics.guns       0.83      0.87      0.85       182\n",
      "   talk.politics.mideast       0.94      0.91      0.93       188\n",
      "      talk.politics.misc       0.80      0.78      0.79       155\n",
      "      talk.religion.misc       0.77      0.56      0.65       126\n",
      "\n",
      "                accuracy                           0.84      3770\n",
      "               macro avg       0.84      0.83      0.83      3770\n",
      "            weighted avg       0.84      0.84      0.84      3770\n",
      "\n",
      "Confusion matrix:\n",
      "AxesSubplot(0.125,0.125;0.62x0.755)\n"
     ]
    },
    {
     "data": {
      "image/png": "[encoded data removed]",
      "text/plain": [
       "<Figure size 432x288 with 2 Axes>"
      ]
     },
     "metadata": {
      "needs_background": "light"
     },
     "output_type": "display_data"
    }
   ],
   "source": [
    "print(\"Classification report:\")\n",
    "print(classification_report(Y_test, Y_test_hat, target_names=label_encoder.classes_))\n",
    "print(\"Confusion matrix:\")\n",
    "print(sns.heatmap(confusion_matrix(Y_test, Y_test_hat)))"
   ]
  }
 ],
 "metadata": {
  "anaconda-cloud": {},
  "kernelspec": {
   "display_name": "Python 3",
   "language": "python",
   "name": "python3"
  },
  "language_info": {
   "codemirror_mode": {
    "name": "ipython",
    "version": 3
   },
   "file_extension": ".py",
   "mimetype": "text/x-python",
   "name": "python",
   "nbconvert_exporter": "python",
   "pygments_lexer": "ipython3",
   "version": "3.6.8"
  }
 },
 "nbformat": 4,
 "nbformat_minor": 1
}
