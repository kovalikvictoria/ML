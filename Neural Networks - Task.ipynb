{
 "cells": [
  {
   "cell_type": "markdown",
   "metadata": {},
   "source": [
    "В цій практичній роботі ми спробуємо реалізувати нейронну мережу з двох шарів (прихований і вихідний). Запропонований підхід стане заготовкою для реалізації наступних оптимізацій: MBGD, ADAM та регуляризації. \n",
    "\n",
    "Сьогодні ж вам пропонується додати до цього класу підтримку довільної кількості шарів та нейронів в них (наприклад, передавати їх параметром в конструктор, як це робиться в MLPClassifier за допомогою hidden_layer_sizes). Також потрібно передбачити можливість ранньої зупинки ітераційного процесу, якщо значення штрафної функції не покращуватиметься протягом певної кількості ітерацій. Наприклад, якщо протягом $k$ ітерацій штрафна функція за модулем не стане меншою, ніж на поточному кроці."
   ]
  },
  {
   "cell_type": "code",
   "execution_count": 1,
   "metadata": {},
   "outputs": [],
   "source": [
    "import numpy as np\n",
    "import pandas as pd\n",
    "from sklearn.model_selection import train_test_split\n",
    "from mpl_toolkits.mplot3d import Axes3D\n",
    "import matplotlib.pyplot as plt\n",
    "\n",
    "from matplotlib.colors import ListedColormap\n",
    "cm_bright = ListedColormap(['#FF0000', '#0000FF'])\n",
    "cm_bright_test = ListedColormap(['#FFA833','#33E0FF'])\n",
    "%matplotlib inline\n",
    "from sklearn.metrics import accuracy_score\n",
    "\n",
    "import sklearn.linear_model"
   ]
  },
  {
   "cell_type": "code",
   "execution_count": 2,
   "metadata": {},
   "outputs": [],
   "source": [
    "def plot_surface(cls, x_1, x_2, ax=None, threshold=0.5, contourf=False):\n",
    "    xx1, xx2 = np.meshgrid(np.linspace(x_1.min(), x_1.max(), 100), \n",
    "                           np.linspace(x_2.min(), x_2.max(), 100))\n",
    "\n",
    "    X_pred = np.c_[xx1.ravel(), xx2.ravel()]\n",
    "    pred = cls.predict_proba(X_pred)[:, 0]\n",
    "    Z = pred.reshape((100, 100))\n",
    "    if ax is None:\n",
    "        ax = plt.gca()\n",
    "    ax.contour(xx1, xx2, Z, levels=[threshold], colors='black')\n",
    "    ax.set_xlim((x_1.min(), x_1.max()))\n",
    "    ax.set_ylim((x_2.min(), x_2.max()))"
   ]
  },
  {
   "cell_type": "code",
   "execution_count": 3,
   "metadata": {},
   "outputs": [],
   "source": [
    "def plot_data(X, y, color_map=cm_bright):\n",
    "    ax = plt.gca()\n",
    "    ax.scatter(X[:,0], X[:,1], c=(y == 1), cmap=color_map)"
   ]
  },
  {
   "cell_type": "code",
   "execution_count": 4,
   "metadata": {},
   "outputs": [],
   "source": [
    "class NeuralNet:\n",
    "    \"\"\"\n",
    "    NN for binary classification\n",
    "    Attributes:\n",
    "    ...\n",
    "    \"\"\"\n",
    "    \n",
    "    def __init__(self, neurons_in_layers, normalize = True, learning_rate = 0.01, num_iter = 30000):\n",
    "        self.neurons_in_layers = neurons_in_layers\n",
    "        self.learning_rate = learning_rate\n",
    "        self.num_iter = num_iter\n",
    "        self.normalize = normalize\n",
    "    \n",
    "    def __normalize(self, X, mean = None, std = None):\n",
    "        n = X.shape[0]\n",
    "        m = mean\n",
    "        if m is None:\n",
    "            m = np.mean(X, axis=1).reshape((n, 1))\n",
    "        s = std\n",
    "        if s is None:\n",
    "            s = np.std(X, axis=1).reshape((n, 1))\n",
    "        X_new = (X - m) / s**2\n",
    "        return X_new, m, s\n",
    "\n",
    "    def __sigmoid(self, Z):\n",
    "        return 1 / (1 + np.exp(-Z))\n",
    "    \n",
    "    def __initialize_parameters(self):\n",
    "        neurons_in_layers = self.neurons_in_layers\n",
    "        parameters = {}\n",
    "        for i in range(1, len(neurons_in_layers)):\n",
    "            parameters[\"W\" + str(i)] = np.random.randn(neurons_in_layers[i], neurons_in_layers[i - 1]) * 0.01\n",
    "            parameters[\"b\" + str(i)] = np.zeros((neurons_in_layers[i], 1)) #\n",
    "        self.parameters = parameters\n",
    "       \n",
    "    def __forward_propagation(self, X):\n",
    "        parameters = self.parameters\n",
    "        caches = []\n",
    "        A = X\n",
    "        L = len(parameters) // 2\n",
    "\n",
    "        for i in range(1, L):\n",
    "            prev_A = A\n",
    "            W = parameters[\"W\"+str(i)]\n",
    "            b = parameters[\"b\"+str(i)]\n",
    "            \n",
    "            Z = np.dot(W, prev_A) + b\n",
    "            linear_cache = (prev_A, W, b)\n",
    "            \n",
    "            A = self.__sigmoid(Z)\n",
    "            activation_cache = Z\n",
    "            \n",
    "            cache = (linear_cache, activation_cache)            \n",
    "            caches.append(cache)   \n",
    "            \n",
    "        W = parameters[\"W\"+str(L)]\n",
    "        b = parameters[\"b\"+str(L)]\n",
    "        \n",
    "        Z = np.dot(W, A) + b\n",
    "        linear_cache = (A, W, b)\n",
    "            \n",
    "        AL = self.__sigmoid(Z)\n",
    "        activation_cache = Z\n",
    "            \n",
    "        cache = (linear_cache, activation_cache)            \n",
    "        caches.append(cache)  \n",
    "        \n",
    "        assert(AL.shape == (1,X.shape[1]))\n",
    "        return AL, caches\n",
    "    \n",
    "    def compute_cost(self, A, Y):\n",
    "        m = Y.shape[1]\n",
    "        res = Y * np.log(A) + (1 - Y) * np.log(1 - A)\n",
    "        J = -(1 / m) * np.sum(res)\n",
    "        return J\n",
    "        \n",
    "    def __backward_propagation(self, X, Y, caches):\n",
    "        grads = {}\n",
    "        AL = X\n",
    "        L = len(caches)\n",
    "        m = AL.shape[1]\n",
    "        Y = Y.reshape(AL.shape)\n",
    "        dAL = -(np.divide(Y, AL) - np.divide(1 - Y, 1 - AL))\n",
    "        \n",
    "        linear_cache, activation_cache = caches[L-1]\n",
    "        Z = activation_cache\n",
    "        s = self.__sigmoid(Z)\n",
    "        dZ = dAL * s * (1 - s)\n",
    "        prev_A, W, b = linear_cache\n",
    "        m = prev_A.shape[1]\n",
    "        dW = 1 / m * np.dot(dZ, prev_A.T)\n",
    "        db = 1 / m * np.sum(dZ, axis=1, keepdims=True)\n",
    "        prev_dA = np.dot(W.T, dZ)\n",
    "        \n",
    "        grads[\"dA\" + str(L-1)] = prev_dA\n",
    "        grads[\"dW\" + str(L)] = dW\n",
    "        grads[\"db\" + str(L)] = db\n",
    "        \n",
    "        for i in reversed(range(L-1)):\n",
    "            linear_cache, activation_cache = caches[i]\n",
    "            Z = activation_cache\n",
    "            s = self.__sigmoid(Z)\n",
    "            dZ = prev_dA * s * (1 - s)\n",
    "            prev_A, W, b = linear_cache\n",
    "            m = prev_A.shape[1]\n",
    "            dW = 1 / m * np.dot(dZ, prev_A.T)\n",
    "            db = 1 / m * np.sum(dZ, axis=1, keepdims=True)\n",
    "            prev_dA = np.dot(W.T, dZ)\n",
    "            \n",
    "            grads[\"dA\" + str(i)] = prev_dA\n",
    "            grads[\"dW\" + str(i + 1)] = dW\n",
    "            grads[\"db\" + str(i + 1)] = db\n",
    "        return grads\n",
    "    \n",
    "    def __update_parameters(self, grads):\n",
    "        parameters = self.parameters\n",
    "        learning_rate = self.learning_rate\n",
    "\n",
    "        for i in range(len(parameters) // 2):\n",
    "            parameters[\"W\" + str(i+1)] = parameters[\"W\" + str(i+1)] - learning_rate * grads[\"dW\" + str(i+1)]\n",
    "            parameters[\"b\" + str(i+1)] = parameters[\"b\" + str(i+1)] - learning_rate * grads[\"db\" + str(i+1)]\n",
    "            \n",
    "        self.parameters = parameters\n",
    "        \n",
    "    def fit(self, X_vert, Y_vert, print_cost = True):\n",
    "        \n",
    "        X, Y = X_vert.T, Y_vert.T\n",
    "        \n",
    "        if self.normalize:\n",
    "            X, self.__mean, self.__std = self.__normalize(X)\n",
    "        \n",
    "        costs = []\n",
    "        \n",
    "        self.__initialize_parameters()\n",
    "\n",
    "        for i in range(0, self.num_iter):\n",
    "            A, caches = self.__forward_propagation(X)\n",
    "\n",
    "            cost = self.compute_cost(A, Y)\n",
    "\n",
    "            grads = self.__backward_propagation(A, Y, caches)\n",
    "\n",
    "            self.__update_parameters(grads)\n",
    "\n",
    "            if print_cost and i % 100 == 0:\n",
    "                print(\"{}-th iteration: {}\".format(i, cost))\n",
    "\n",
    "            if i % 100 == 0:\n",
    "                costs.append(cost)\n",
    "\n",
    "        if print_cost:\n",
    "            plt.plot(costs)\n",
    "            plt.ylabel(\"Cost\")\n",
    "            plt.xlabel(\"Iteration, *1000\")\n",
    "            plt.show()\n",
    "    \n",
    "    def predict_proba(self, X_vert):\n",
    "        X = X_vert.T\n",
    "        if self.normalize:\n",
    "            X, _, _ = self.__normalize(X, self.__mean, self.__std)\n",
    "        \n",
    "        probs = self.__forward_propagation(X)[0]\n",
    "        \n",
    "        return np.column_stack((probs.T, 1 - probs.T))\n",
    "    \n",
    "    def predict(self, X_vert):\n",
    "        positive_probs = self.predict_proba(X_vert)[:, 0]\n",
    "        return (positive_probs >= 0.5).astype(int)   \n"
   ]
  },
  {
   "cell_type": "markdown",
   "metadata": {},
   "source": [
    "Спочатку спробуйте цей клас на одній задачі, а потім на іншій."
   ]
  },
  {
   "cell_type": "code",
   "execution_count": 5,
   "metadata": {},
   "outputs": [],
   "source": [
    "#data_columns = [\"exam1\", \"exam2\"]\n",
    "#target_column = \"submitted\"\n",
    "#df = pd.read_csv(\"sats.csv\")\n",
    "#X, Y = df[data_columns].values, df[target_column].reshape((df.shape[0], 1))\n",
    "#print('Training set: X={}, y={}'.format(X.shape, Y.shape))"
   ]
  },
  {
   "cell_type": "code",
   "execution_count": 6,
   "metadata": {},
   "outputs": [
    {
     "name": "stdout",
     "output_type": "stream",
     "text": [
      "Training set: X=(118, 2), y=(118,)\n"
     ]
    }
   ],
   "source": [
    "data_columns = [\"test1\", \"test2\"]\n",
    "target_column = \"passed\"\n",
    "df = pd.read_csv(\"tests.csv\")\n",
    "X, Y = df[data_columns].values, df[target_column]\n",
    "print('Training set: X={}, y={}'.format(X.shape, Y.shape))"
   ]
  },
  {
   "cell_type": "code",
   "execution_count": 7,
   "metadata": {},
   "outputs": [
    {
     "data": {
      "image/png": "[encoded data removed]",
      "text/plain": [
       "<Figure size 432x288 with 1 Axes>"
      ]
     },
     "metadata": {
      "needs_background": "light"
     },
     "output_type": "display_data"
    }
   ],
   "source": [
    "plot_data(X, Y)"
   ]
  },
  {
   "cell_type": "code",
   "execution_count": 8,
   "metadata": {},
   "outputs": [],
   "source": [
    "cls = NeuralNet(neurons_in_layers = [2, 15, 1], normalize = True, learning_rate = 0.5, num_iter = 4000)"
   ]
  },
  {
   "cell_type": "code",
   "execution_count": 9,
   "metadata": {
    "scrolled": true
   },
   "outputs": [
    {
     "name": "stdout",
     "output_type": "stream",
     "text": [
      "0-th iteration: 0.6934597615496367\n",
      "100-th iteration: 0.6894805503536215\n",
      "200-th iteration: 0.6893965220172348\n",
      "300-th iteration: 0.6892265119745354\n",
      "400-th iteration: 0.6889198307376679\n",
      "500-th iteration: 0.6885494237389055\n",
      "600-th iteration: 0.6882889249920892\n",
      "700-th iteration: 0.6881466465109513\n",
      "800-th iteration: 0.6880299011816171\n",
      "900-th iteration: 0.6878732646882406\n",
      "1000-th iteration: 0.6876091765148408\n",
      "1100-th iteration: 0.6870867443361974\n",
      "1200-th iteration: 0.6858781276403259\n",
      "1300-th iteration: 0.6828635056763508\n",
      "1400-th iteration: 0.6759896827670319\n",
      "1500-th iteration: 0.6622141644450025\n",
      "1600-th iteration: 0.6387083949188326\n",
      "1700-th iteration: 0.6134678670748612\n",
      "1800-th iteration: 0.5959745920507711\n",
      "1900-th iteration: 0.5861014299483122\n",
      "2000-th iteration: 0.5808241390889476\n",
      "2100-th iteration: 0.5774518363062153\n",
      "2200-th iteration: 0.5714471783998937\n",
      "2300-th iteration: 0.5519093535207864\n",
      "2400-th iteration: 0.516441594828593\n",
      "2500-th iteration: 0.481110772494926\n",
      "2600-th iteration: 0.4546037138002735\n",
      "2700-th iteration: 0.4351846547765515\n",
      "2800-th iteration: 0.4199669527237469\n",
      "2900-th iteration: 0.40737368451353995\n",
      "3000-th iteration: 0.39667921710800774\n",
      "3100-th iteration: 0.3876632532187737\n",
      "3200-th iteration: 0.38033498679202943\n",
      "3300-th iteration: 0.3743503104931146\n",
      "3400-th iteration: 0.3693551897237683\n",
      "3500-th iteration: 0.3650904867572813\n",
      "3600-th iteration: 0.3613913746763967\n",
      "3700-th iteration: 0.3581512828542481\n",
      "3800-th iteration: 0.3552835995066451\n",
      "3900-th iteration: 0.3527046826644045\n"
     ]
    },
    {
     "data": {
      "image/png": "[encoded data removed]",
      "text/plain": [
       "<Figure size 432x288 with 1 Axes>"
      ]
     },
     "metadata": {
      "needs_background": "light"
     },
     "output_type": "display_data"
    }
   ],
   "source": [
    "X_train, X_test, Y_train, Y_test = train_test_split(X, Y.values.reshape((Y.shape[0], 1)), test_size = 0.2, random_state=10)\n",
    "\n",
    "cls.fit(X_train, Y_train)"
   ]
  },
  {
   "cell_type": "code",
   "execution_count": 10,
   "metadata": {},
   "outputs": [
    {
     "name": "stdout",
     "output_type": "stream",
     "text": [
      "{'W1': array([[-1.27573298, -0.14650111],\n",
      "       [-0.00249441, -1.06812839],\n",
      "       [-1.22231473, -0.1054782 ],\n",
      "       [-2.49111032, -1.97368836],\n",
      "       [-1.18727841, -0.08221545],\n",
      "       [ 0.18118304, -0.93973142],\n",
      "       [-0.04946017,  1.61391285],\n",
      "       [ 0.40067639, -1.02161151],\n",
      "       [-0.30761691, -0.10635298],\n",
      "       [-1.09536157,  0.17241935],\n",
      "       [-0.3126052 ,  1.44302384],\n",
      "       [-0.41053493, -1.37240712],\n",
      "       [ 0.28239852, -1.10739789],\n",
      "       [ 0.5716846 , -0.92696295],\n",
      "       [-1.12110419, -0.03087139]]), 'b1': array([[-2.134171  ],\n",
      "       [-0.96642383],\n",
      "       [-2.12075921],\n",
      "       [ 4.4322549 ],\n",
      "       [-2.02661847],\n",
      "       [-2.21451356],\n",
      "       [-3.4923198 ],\n",
      "       [-1.55598873],\n",
      "       [ 0.29135034],\n",
      "       [-2.64679197],\n",
      "       [-3.2607739 ],\n",
      "       [-2.47176402],\n",
      "       [-1.41163511],\n",
      "       [-1.7938257 ],\n",
      "       [-1.56630133]]), 'W2': array([[-2.43880824, -0.90500337, -2.39181106,  9.01458641, -2.24225336,\n",
      "        -2.72632798, -3.48920011, -1.84566202,  0.68952269, -2.96841739,\n",
      "        -3.34049108, -3.57697432, -1.7029113 , -2.10214983, -1.58105941]]), 'b2': array([[1.39537038]])}\n"
     ]
    }
   ],
   "source": [
    "print(cls.parameters)"
   ]
  },
  {
   "cell_type": "code",
   "execution_count": 11,
   "metadata": {},
   "outputs": [
    {
     "data": {
      "text/plain": [
       "array([[8.66397991e-01, 1.33602009e-01],\n",
       "       [2.17065907e-01, 7.82934093e-01],\n",
       "       [9.99435838e-01, 5.64161788e-04],\n",
       "       [3.95875010e-01, 6.04124990e-01],\n",
       "       [1.01130275e-01, 8.98869725e-01],\n",
       "       [9.79475005e-01, 2.05249948e-02],\n",
       "       [1.61499373e-01, 8.38500627e-01],\n",
       "       [9.97603402e-01, 2.39659776e-03],\n",
       "       [9.92300127e-01, 7.69987280e-03],\n",
       "       [1.02241568e-01, 8.97758432e-01],\n",
       "       [9.86214704e-01, 1.37852960e-02],\n",
       "       [7.54697706e-01, 2.45302294e-01],\n",
       "       [4.29287335e-01, 5.70712665e-01],\n",
       "       [2.32205412e-01, 7.67794588e-01],\n",
       "       [9.91395450e-01, 8.60455050e-03],\n",
       "       [9.96350896e-01, 3.64910447e-03],\n",
       "       [4.50878724e-01, 5.49121276e-01],\n",
       "       [2.28336048e-01, 7.71663952e-01],\n",
       "       [3.90548257e-01, 6.09451743e-01],\n",
       "       [4.07906641e-02, 9.59209336e-01],\n",
       "       [9.08121576e-01, 9.18784243e-02],\n",
       "       [4.20499075e-02, 9.57950093e-01],\n",
       "       [3.79997501e-01, 6.20002499e-01],\n",
       "       [9.82373143e-01, 1.76268565e-02],\n",
       "       [1.19378664e-01, 8.80621336e-01],\n",
       "       [5.55717667e-01, 4.44282333e-01],\n",
       "       [9.82780651e-01, 1.72193494e-02],\n",
       "       [7.00954030e-02, 9.29904597e-01],\n",
       "       [8.55607188e-01, 1.44392812e-01],\n",
       "       [8.52917493e-01, 1.47082507e-01],\n",
       "       [1.57363691e-01, 8.42636309e-01],\n",
       "       [6.85390758e-01, 3.14609242e-01],\n",
       "       [1.58634377e-02, 9.84136562e-01],\n",
       "       [6.18717321e-02, 9.38128268e-01],\n",
       "       [9.45022431e-01, 5.49775693e-02],\n",
       "       [3.80750153e-01, 6.19249847e-01],\n",
       "       [4.00345600e-01, 5.99654400e-01],\n",
       "       [3.95194522e-01, 6.04805478e-01],\n",
       "       [5.52836255e-01, 4.47163745e-01],\n",
       "       [9.98117788e-01, 1.88221227e-03],\n",
       "       [8.52949251e-02, 9.14705075e-01],\n",
       "       [6.14910768e-01, 3.85089232e-01],\n",
       "       [4.33228730e-01, 5.66771270e-01],\n",
       "       [8.15524815e-02, 9.18447519e-01],\n",
       "       [8.75031742e-01, 1.24968258e-01],\n",
       "       [6.07378418e-01, 3.92621582e-01],\n",
       "       [9.83714531e-01, 1.62854694e-02],\n",
       "       [6.20821002e-01, 3.79178998e-01],\n",
       "       [2.26853904e-01, 7.73146096e-01],\n",
       "       [3.85981775e-02, 9.61401823e-01],\n",
       "       [9.91323896e-01, 8.67610358e-03],\n",
       "       [4.33807333e-02, 9.56619267e-01],\n",
       "       [8.30706639e-01, 1.69293361e-01],\n",
       "       [7.73134710e-01, 2.26865290e-01],\n",
       "       [4.63232447e-01, 5.36767553e-01],\n",
       "       [5.19472237e-02, 9.48052776e-01],\n",
       "       [5.17381616e-01, 4.82618384e-01],\n",
       "       [5.90395574e-01, 4.09604426e-01],\n",
       "       [9.59838955e-01, 4.01610448e-02],\n",
       "       [3.22562788e-01, 6.77437212e-01],\n",
       "       [6.03598556e-01, 3.96401444e-01],\n",
       "       [9.89327326e-01, 1.06726735e-02],\n",
       "       [2.63590191e-01, 7.36409809e-01],\n",
       "       [8.35172185e-01, 1.64827815e-01],\n",
       "       [9.44599905e-01, 5.54000950e-02],\n",
       "       [9.56083357e-02, 9.04391664e-01],\n",
       "       [2.46981112e-01, 7.53018888e-01],\n",
       "       [9.04048795e-01, 9.59512051e-02],\n",
       "       [6.72494959e-01, 3.27505041e-01],\n",
       "       [1.33407975e-01, 8.66592025e-01],\n",
       "       [2.20038129e-01, 7.79961871e-01],\n",
       "       [6.12407839e-01, 3.87592161e-01],\n",
       "       [9.79837327e-01, 2.01626728e-02],\n",
       "       [9.41530726e-01, 5.84692738e-02],\n",
       "       [1.43281163e-02, 9.85671884e-01],\n",
       "       [7.36730820e-01, 2.63269180e-01],\n",
       "       [4.42588385e-01, 5.57411615e-01],\n",
       "       [3.24910715e-01, 6.75089285e-01],\n",
       "       [2.22788959e-01, 7.77211041e-01],\n",
       "       [6.22732117e-01, 3.77267883e-01],\n",
       "       [3.67350228e-01, 6.32649772e-01],\n",
       "       [3.77651469e-02, 9.62234853e-01],\n",
       "       [6.58832767e-01, 3.41167233e-01],\n",
       "       [8.21431924e-01, 1.78568076e-01],\n",
       "       [7.44672849e-01, 2.55327151e-01],\n",
       "       [8.55122666e-01, 1.44877334e-01],\n",
       "       [3.53395080e-02, 9.64660492e-01],\n",
       "       [4.10010606e-02, 9.58998939e-01],\n",
       "       [4.65115863e-01, 5.34884137e-01],\n",
       "       [9.92422554e-01, 7.57744578e-03],\n",
       "       [9.73077692e-01, 2.69223077e-02],\n",
       "       [3.18924039e-01, 6.81075961e-01],\n",
       "       [9.91226858e-01, 8.77314226e-03],\n",
       "       [9.71546856e-01, 2.84531442e-02]])"
      ]
     },
     "execution_count": 11,
     "metadata": {},
     "output_type": "execute_result"
    }
   ],
   "source": [
    "Y_prob = cls.predict_proba(X_train)\n",
    "Y_prob"
   ]
  },
  {
   "cell_type": "code",
   "execution_count": 12,
   "metadata": {},
   "outputs": [
    {
     "data": {
      "text/plain": [
       "array([1, 0, 1, 0, 0, 1, 0, 1, 1, 0, 1, 1, 0, 0, 1, 1, 0, 0, 0, 0, 1, 0,\n",
       "       0, 1, 0, 1, 1, 0, 1, 1, 0, 1, 0, 0, 1, 0, 0, 0, 1, 1, 0, 1, 0, 0,\n",
       "       1, 1, 1, 1, 0, 0, 1, 0, 1, 1, 0, 0, 1, 1, 1, 0, 1, 1, 0, 1, 1, 0,\n",
       "       0, 1, 1, 0, 0, 1, 1, 1, 0, 1, 0, 0, 0, 1, 0, 0, 1, 1, 1, 1, 0, 0,\n",
       "       0, 1, 1, 0, 1, 1])"
      ]
     },
     "execution_count": 12,
     "metadata": {},
     "output_type": "execute_result"
    }
   ],
   "source": [
    "Y_train_hat = cls.predict(X_train)\n",
    "Y_train_hat"
   ]
  },
  {
   "cell_type": "code",
   "execution_count": 13,
   "metadata": {},
   "outputs": [
    {
     "data": {
      "text/plain": [
       "0.851063829787234"
      ]
     },
     "execution_count": 13,
     "metadata": {},
     "output_type": "execute_result"
    }
   ],
   "source": [
    "accuracy_score(Y_train, Y_train_hat)"
   ]
  },
  {
   "cell_type": "code",
   "execution_count": 14,
   "metadata": {},
   "outputs": [
    {
     "data": {
      "text/plain": [
       "array([1, 0, 0, 1, 0, 1, 0, 1, 0, 0, 0, 1, 0, 0, 1, 1, 1, 1, 0, 0, 1, 1,\n",
       "       0, 0])"
      ]
     },
     "execution_count": 14,
     "metadata": {},
     "output_type": "execute_result"
    }
   ],
   "source": [
    "Y_test_hat = cls.predict(X_test)\n",
    "Y_test_hat"
   ]
  },
  {
   "cell_type": "code",
   "execution_count": 15,
   "metadata": {},
   "outputs": [
    {
     "data": {
      "text/plain": [
       "0.8333333333333334"
      ]
     },
     "execution_count": 15,
     "metadata": {},
     "output_type": "execute_result"
    }
   ],
   "source": [
    "accuracy_score(Y_test, Y_test_hat)"
   ]
  },
  {
   "cell_type": "code",
   "execution_count": 16,
   "metadata": {},
   "outputs": [
    {
     "data": {
      "image/png": "[encoded data removed]",
      "text/plain": [
       "<Figure size 432x288 with 1 Axes>"
      ]
     },
     "metadata": {
      "needs_background": "light"
     },
     "output_type": "display_data"
    }
   ],
   "source": [
    "plot_data(X_train, Y_train.reshape((Y_train.shape[0],)))#_train\n",
    "plot_data(X_test, Y_test.reshape((Y_test.shape[0],)), color_map = cm_bright_test)\n",
    "\n",
    "plot_surface(cls, X[:, 0], X[:, 1])"
   ]
  },
  {
   "cell_type": "markdown",
   "metadata": {},
   "source": [
    "Зверніть увагу на границю прийняття рішення. Модель старається побудувати складну криву, що може свідчити про її перетренування. Порівняйте отримані результати з класом з sklearn. Спробуйте додати нові шари для нашого класу та порівняти результати тоді. Поекспериментуйте з гіперпараметрами для обох класів."
   ]
  },
  {
   "cell_type": "code",
   "execution_count": 17,
   "metadata": {},
   "outputs": [],
   "source": [
    "from sklearn.neural_network import MLPClassifier\n",
    "clf = MLPClassifier(hidden_layer_sizes = (20,), max_iter = 10000, activation = 'relu', solver = 'sgd', learning_rate_init = 0.01, learning_rate = 'constant')"
   ]
  },
  {
   "cell_type": "code",
   "execution_count": 18,
   "metadata": {},
   "outputs": [
    {
     "data": {
      "text/plain": [
       "MLPClassifier(activation='relu', alpha=0.0001, batch_size='auto', beta_1=0.9,\n",
       "              beta_2=0.999, early_stopping=False, epsilon=1e-08,\n",
       "              hidden_layer_sizes=(20,), learning_rate='constant',\n",
       "              learning_rate_init=0.01, max_fun=15000, max_iter=10000,\n",
       "              momentum=0.9, n_iter_no_change=10, nesterovs_momentum=True,\n",
       "              power_t=0.5, random_state=None, shuffle=True, solver='sgd',\n",
       "              tol=0.0001, validation_fraction=0.1, verbose=False,\n",
       "              warm_start=False)"
      ]
     },
     "execution_count": 18,
     "metadata": {},
     "output_type": "execute_result"
    }
   ],
   "source": [
    "clf.fit(X, Y)"
   ]
  },
  {
   "cell_type": "code",
   "execution_count": 19,
   "metadata": {},
   "outputs": [
    {
     "data": {
      "image/png": "[encoded data removed]",
      "text/plain": [
       "<Figure size 432x288 with 1 Axes>"
      ]
     },
     "metadata": {
      "needs_background": "light"
     },
     "output_type": "display_data"
    }
   ],
   "source": [
    "plot_data(X, Y)\n",
    "plot_surface(clf, X[:, 0], X[:, 1])"
   ]
  },
  {
   "cell_type": "code",
   "execution_count": 20,
   "metadata": {},
   "outputs": [
    {
     "data": {
      "text/plain": [
       "0.8389830508474576"
      ]
     },
     "execution_count": 20,
     "metadata": {},
     "output_type": "execute_result"
    }
   ],
   "source": [
    "accuracy_score(Y, clf.predict(X))"
   ]
  },
  {
   "cell_type": "code",
   "execution_count": null,
   "metadata": {},
   "outputs": [],
   "source": []
  }
 ],
 "metadata": {
  "anaconda-cloud": {},
  "kernelspec": {
   "display_name": "Python 3",
   "language": "python",
   "name": "python3"
  },
  "language_info": {
   "codemirror_mode": {
    "name": "ipython",
    "version": 3
   },
   "file_extension": ".py",
   "mimetype": "text/x-python",
   "name": "python",
   "nbconvert_exporter": "python",
   "pygments_lexer": "ipython3",
   "version": "3.6.8"
  }
 },
 "nbformat": 4,
 "nbformat_minor": 1
}
