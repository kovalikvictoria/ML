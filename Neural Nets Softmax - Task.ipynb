{
 "cells": [
  {
   "cell_type": "markdown",
   "metadata": {},
   "source": [
    "Додати багатокласову класифікацію (Softmax)."
   ]
  },
  {
   "cell_type": "code",
   "execution_count": 1,
   "metadata": {},
   "outputs": [],
   "source": [
    "import numpy as np\n",
    "import pandas as pd\n",
    "\n",
    "from mpl_toolkits.mplot3d import Axes3D\n",
    "import matplotlib.pyplot as plt\n",
    "from matplotlib.colors import ListedColormap\n",
    "cm_bright = ListedColormap(['#BC371B', '#BC881B', '#4FBC1B'])\n",
    "%matplotlib inline\n",
    "\n",
    "from sklearn.datasets import load_iris\n",
    "from sklearn.model_selection import train_test_split\n",
    "from sklearn.metrics import accuracy_score"
   ]
  },
  {
   "cell_type": "code",
   "execution_count": 2,
   "metadata": {},
   "outputs": [],
   "source": [
    "def plot_data(X, y):\n",
    "    ax = plt.gca()\n",
    "    ax.scatter(X[:,0], X[:,1], c=y, cmap=cm_bright)"
   ]
  },
  {
   "cell_type": "code",
   "execution_count": 3,
   "metadata": {},
   "outputs": [],
   "source": [
    "class NeuralNet:\n",
    "    \"\"\"\n",
    "    NN for multi-class classification\n",
    "    Attributes:\n",
    "    ...\n",
    "    \"\"\"\n",
    "    \n",
    "    def __init__(self, neurons_in_layers, normalize = True, learning_rate = 0.01, num_iter = 30000):\n",
    "        self.neurons_in_layers = neurons_in_layers\n",
    "        self.learning_rate = learning_rate\n",
    "        self.num_iter = num_iter\n",
    "        self.normalize = normalize\n",
    "    \n",
    "    def __normalize(self, X, mean = None, std = None):\n",
    "        n = X.shape[0]\n",
    "        m = mean\n",
    "        if m is None:\n",
    "            m = np.mean(X, axis=1).reshape((n, 1))\n",
    "        s = std\n",
    "        if s is None:\n",
    "            s = np.std(X, axis=1).reshape((n, 1))\n",
    "        X_new = (X - m) / s**2\n",
    "        return X_new, m, s\n",
    "    \n",
    "    def __softmax(self, Z):\n",
    "        eZ = np.exp(Z - np.max(Z))\n",
    "        return eZ / np.sum(eZ, axis=0, keepdims=True)\n",
    "\n",
    "    def __initialize_parameters(self):\n",
    "        neurons_in_layers = self.neurons_in_layers\n",
    "        parameters = {}\n",
    "        for i in range(1, len(neurons_in_layers)):\n",
    "            parameters[\"W\" + str(i)] = np.random.randn(neurons_in_layers[i], neurons_in_layers[i - 1]) * 0.01\n",
    "            parameters[\"b\" + str(i)] = np.zeros((neurons_in_layers[i], 1))\n",
    "        self.parameters = parameters\n",
    "       \n",
    "    def __forward_propagation(self, X):\n",
    "        parameters = self.parameters\n",
    "        caches = []\n",
    "        A = X\n",
    "        L = len(parameters) // 2\n",
    "\n",
    "        for i in range(1, L):\n",
    "            prev_A = A\n",
    "            W = parameters[\"W\"+str(i)]\n",
    "            b = parameters[\"b\"+str(i)]\n",
    "            \n",
    "            Z = np.dot(W, prev_A) + b\n",
    "            linear_cache = (prev_A, W, b)\n",
    "            \n",
    "            A = self.__softmax(Z)\n",
    "            activation_cache = Z\n",
    "            \n",
    "            cache = (linear_cache, activation_cache)            \n",
    "            caches.append(cache)   \n",
    "            \n",
    "        W = parameters[\"W\"+str(L)]\n",
    "        b = parameters[\"b\"+str(L)]\n",
    "        \n",
    "        Z = np.dot(W, A) + b\n",
    "        linear_cache = (A, W, b)\n",
    "            \n",
    "        AL = self.__softmax(Z)\n",
    "        activation_cache = Z\n",
    "            \n",
    "        cache = (linear_cache, activation_cache)            \n",
    "        caches.append(cache)  \n",
    "        \n",
    "        assert(AL.shape == (3, X.shape[1]))\n",
    "        return AL, caches\n",
    "    \n",
    "    def compute_cost(self, A, Y):\n",
    "        J = -np.mean(Y.T * np.log(A.T+ 1e-8))\n",
    "        return J\n",
    "        \n",
    "    def __backward_propagation(self, X, Y, caches):\n",
    "        grads = {}\n",
    "        AL = X\n",
    "        L = len(caches)\n",
    "        m = AL.shape[1]\n",
    "        Y = Y.reshape(AL.shape)\n",
    "        dAL = -(np.divide(Y, AL) - np.divide(1 - Y, 1 - AL))\n",
    "        \n",
    "        linear_cache, activation_cache = caches[L-1]\n",
    "        Z = activation_cache\n",
    "        s = self.__softmax(Z)\n",
    "        dZ = dAL * s * (1 - s)\n",
    "        prev_A, W, b = linear_cache\n",
    "        m = prev_A.shape[1]\n",
    "        dW = 1 / m * np.dot(dZ, prev_A.T)\n",
    "        db = 1 / m * np.sum(dZ, axis=1, keepdims=True)\n",
    "        prev_dA = np.dot(W.T, dZ)\n",
    "        \n",
    "        grads[\"dA\" + str(L-1)] = prev_dA\n",
    "        grads[\"dW\" + str(L)] = dW\n",
    "        grads[\"db\" + str(L)] = db\n",
    "        \n",
    "        for i in reversed(range(L-1)):\n",
    "            linear_cache, activation_cache = caches[i]\n",
    "            Z = activation_cache\n",
    "            s = self.__softmax(Z)\n",
    "            dZ = prev_dA * s * (1 - s)\n",
    "            prev_A, W, b = linear_cache\n",
    "            m = prev_A.shape[1]\n",
    "            dW = 1 / m * np.dot(dZ, prev_A.T)\n",
    "            db = 1 / m * np.sum(dZ, axis=1, keepdims=True)\n",
    "            prev_dA = np.dot(W.T, dZ)\n",
    "            \n",
    "            grads[\"dA\" + str(i)] = prev_dA\n",
    "            grads[\"dW\" + str(i + 1)] = dW\n",
    "            grads[\"db\" + str(i + 1)] = db\n",
    "        return grads\n",
    "   \n",
    "    def __update_parameters(self, grads):\n",
    "        parameters = self.parameters\n",
    "        learning_rate = self.learning_rate\n",
    "\n",
    "        for i in range(len(parameters) // 2):\n",
    "            parameters[\"W\" + str(i+1)] = parameters[\"W\" + str(i+1)] - learning_rate * grads[\"dW\" + str(i+1)]\n",
    "            parameters[\"b\" + str(i+1)] = parameters[\"b\" + str(i+1)] - learning_rate * grads[\"db\" + str(i+1)]\n",
    "            \n",
    "        self.parameters = parameters\n",
    "        \n",
    "    def fit(self, X_vert, Y_vert, print_cost = True):\n",
    "        \n",
    "        X, Y = X_vert.T, Y_vert.T\n",
    "        \n",
    "        if self.normalize:\n",
    "            X, self.__mean, self.__std = self.__normalize(X)\n",
    "        \n",
    "        costs = []\n",
    "        \n",
    "        self.__initialize_parameters()\n",
    "\n",
    "        for i in range(0, self.num_iter):\n",
    "            A, caches = self.__forward_propagation(X)\n",
    "\n",
    "            cost = self.compute_cost(A, Y)\n",
    "\n",
    "            grads = self.__backward_propagation(A, Y, caches)\n",
    "\n",
    "            self.__update_parameters(grads)\n",
    "\n",
    "            if print_cost and i % 100 == 0:\n",
    "                print(\"{}-th iteration: {}\".format(i, cost))\n",
    "\n",
    "            if i % 100 == 0:\n",
    "                costs.append(cost)\n",
    "\n",
    "        if print_cost:\n",
    "            plt.plot(costs)\n",
    "            plt.ylabel(\"Cost\")\n",
    "            plt.xlabel(\"Iteration, *100\")\n",
    "            plt.show()\n",
    "    \n",
    "    def predict_proba(self, X_vert):\n",
    "        X = X_vert.T\n",
    "        if self.normalize:\n",
    "            X, _, _ = self.__normalize(X, self.__mean, self.__std)\n",
    "        \n",
    "        probs = self.__forward_propagation(X)[0]\n",
    "        return probs.T\n",
    "    \n",
    "    def predict(self, X_vert):\n",
    "        positive_probs = self.predict_proba(X_vert)\n",
    "        return np.argmax(positive_probs, axis = 1)\n"
   ]
  },
  {
   "cell_type": "markdown",
   "metadata": {},
   "source": [
    "Спочатку спробуйте цей клас на одній задачі, а потім на іншій."
   ]
  },
  {
   "cell_type": "code",
   "execution_count": 4,
   "metadata": {},
   "outputs": [
    {
     "name": "stdout",
     "output_type": "stream",
     "text": [
      "Dataset: X=(150, 4), y=(150,)\n"
     ]
    }
   ],
   "source": [
    "iris = load_iris()\n",
    "X = iris.data\n",
    "Y = iris.target\n",
    "\n",
    "print('Dataset: X={}, y={}'.format(X.shape, Y.shape))"
   ]
  },
  {
   "cell_type": "code",
   "execution_count": 5,
   "metadata": {},
   "outputs": [
    {
     "data": {
      "image/png": "[encoded data removed]",
      "text/plain": [
       "<Figure size 432x288 with 1 Axes>"
      ]
     },
     "metadata": {
      "needs_background": "light"
     },
     "output_type": "display_data"
    }
   ],
   "source": [
    "plot_data(X, Y)"
   ]
  },
  {
   "cell_type": "code",
   "execution_count": 6,
   "metadata": {},
   "outputs": [],
   "source": [
    "cls = NeuralNet(neurons_in_layers = [4, 15, 3], normalize = True, learning_rate = 0.1, num_iter = 2000)"
   ]
  },
  {
   "cell_type": "code",
   "execution_count": 7,
   "metadata": {
    "scrolled": true
   },
   "outputs": [
    {
     "data": {
      "text/plain": [
       "((120, 4), (30, 4), (120,), (30,))"
      ]
     },
     "execution_count": 7,
     "metadata": {},
     "output_type": "execute_result"
    }
   ],
   "source": [
    "X_train, X_test, Y_train, Y_test = train_test_split(X, Y, test_size = 0.2, random_state=10)\n",
    "X_train.shape, X_test.shape, Y_train.shape, Y_test.shape"
   ]
  },
  {
   "cell_type": "code",
   "execution_count": 8,
   "metadata": {},
   "outputs": [
    {
     "data": {
      "text/plain": [
       "array([[0., 1., 0.],\n",
       "       [0., 1., 0.],\n",
       "       [0., 0., 1.],\n",
       "       [0., 0., 1.],\n",
       "       [0., 0., 1.],\n",
       "       [1., 0., 0.],\n",
       "       [0., 0., 1.],\n",
       "       [0., 0., 1.],\n",
       "       [0., 0., 1.],\n",
       "       [0., 0., 1.],\n",
       "       [1., 0., 0.],\n",
       "       [1., 0., 0.],\n",
       "       [0., 1., 0.],\n",
       "       [1., 0., 0.],\n",
       "       [0., 1., 0.],\n",
       "       [1., 0., 0.],\n",
       "       [0., 1., 0.],\n",
       "       [0., 1., 0.],\n",
       "       [0., 0., 1.],\n",
       "       [0., 0., 1.],\n",
       "       [0., 1., 0.],\n",
       "       [0., 0., 1.],\n",
       "       [0., 1., 0.],\n",
       "       [0., 1., 0.],\n",
       "       [0., 1., 0.],\n",
       "       [1., 0., 0.],\n",
       "       [1., 0., 0.],\n",
       "       [0., 1., 0.],\n",
       "       [1., 0., 0.],\n",
       "       [0., 0., 1.],\n",
       "       [1., 0., 0.],\n",
       "       [1., 0., 0.],\n",
       "       [0., 0., 1.],\n",
       "       [0., 1., 0.],\n",
       "       [0., 0., 1.],\n",
       "       [1., 0., 0.],\n",
       "       [0., 0., 1.],\n",
       "       [1., 0., 0.],\n",
       "       [0., 1., 0.],\n",
       "       [0., 1., 0.],\n",
       "       [1., 0., 0.],\n",
       "       [0., 0., 1.],\n",
       "       [0., 0., 1.],\n",
       "       [0., 0., 1.],\n",
       "       [0., 0., 1.],\n",
       "       [0., 0., 1.],\n",
       "       [1., 0., 0.],\n",
       "       [0., 1., 0.],\n",
       "       [0., 0., 1.],\n",
       "       [0., 1., 0.],\n",
       "       [1., 0., 0.],\n",
       "       [0., 0., 1.],\n",
       "       [0., 1., 0.],\n",
       "       [0., 1., 0.],\n",
       "       [1., 0., 0.],\n",
       "       [1., 0., 0.],\n",
       "       [1., 0., 0.],\n",
       "       [0., 1., 0.],\n",
       "       [0., 0., 1.],\n",
       "       [0., 0., 1.],\n",
       "       [0., 1., 0.],\n",
       "       [1., 0., 0.],\n",
       "       [1., 0., 0.],\n",
       "       [1., 0., 0.],\n",
       "       [0., 0., 1.],\n",
       "       [0., 0., 1.],\n",
       "       [0., 1., 0.],\n",
       "       [0., 1., 0.],\n",
       "       [0., 0., 1.],\n",
       "       [0., 0., 1.],\n",
       "       [0., 0., 1.],\n",
       "       [0., 0., 1.],\n",
       "       [0., 1., 0.],\n",
       "       [1., 0., 0.],\n",
       "       [1., 0., 0.],\n",
       "       [0., 1., 0.],\n",
       "       [1., 0., 0.],\n",
       "       [1., 0., 0.],\n",
       "       [0., 0., 1.],\n",
       "       [0., 1., 0.],\n",
       "       [1., 0., 0.],\n",
       "       [1., 0., 0.],\n",
       "       [1., 0., 0.],\n",
       "       [0., 1., 0.],\n",
       "       [1., 0., 0.],\n",
       "       [0., 1., 0.],\n",
       "       [1., 0., 0.],\n",
       "       [0., 1., 0.],\n",
       "       [0., 0., 1.],\n",
       "       [1., 0., 0.],\n",
       "       [0., 1., 0.],\n",
       "       [0., 1., 0.],\n",
       "       [0., 0., 1.],\n",
       "       [1., 0., 0.],\n",
       "       [0., 0., 1.],\n",
       "       [1., 0., 0.],\n",
       "       [0., 1., 0.],\n",
       "       [0., 1., 0.],\n",
       "       [0., 0., 1.],\n",
       "       [0., 0., 1.],\n",
       "       [1., 0., 0.],\n",
       "       [0., 1., 0.],\n",
       "       [0., 0., 1.],\n",
       "       [0., 0., 1.],\n",
       "       [0., 1., 0.],\n",
       "       [0., 1., 0.],\n",
       "       [0., 0., 1.],\n",
       "       [1., 0., 0.],\n",
       "       [0., 0., 1.],\n",
       "       [1., 0., 0.],\n",
       "       [1., 0., 0.],\n",
       "       [0., 1., 0.],\n",
       "       [1., 0., 0.],\n",
       "       [0., 0., 1.],\n",
       "       [0., 0., 1.],\n",
       "       [0., 0., 1.],\n",
       "       [0., 1., 0.],\n",
       "       [1., 0., 0.],\n",
       "       [0., 0., 1.],\n",
       "       [1., 0., 0.]])"
      ]
     },
     "execution_count": 8,
     "metadata": {},
     "output_type": "execute_result"
    }
   ],
   "source": [
    "Y_train_transf = np.zeros([len(Y_train), 3])\n",
    "for i in range(0, len(Y_train)):\n",
    "    for j in range(0, 3):\n",
    "        if Y_train[i] == j:\n",
    "            Y_train_transf[i][j] = 1\n",
    "\n",
    "Y_train_transf"
   ]
  },
  {
   "cell_type": "code",
   "execution_count": 9,
   "metadata": {},
   "outputs": [
    {
     "name": "stdout",
     "output_type": "stream",
     "text": [
      "0-th iteration: 0.3662298093773595\n",
      "100-th iteration: 0.365522660505186\n",
      "200-th iteration: 0.36529884783163874\n",
      "300-th iteration: 0.364225087151473\n",
      "400-th iteration: 0.3581745138462223\n",
      "500-th iteration: 0.3072887286416016\n",
      "600-th iteration: 0.23269166374576475\n",
      "700-th iteration: 0.20225568934919916\n",
      "800-th iteration: 0.18537611432380807\n",
      "900-th iteration: 0.1735316091369272\n",
      "1000-th iteration: 0.160233936701426\n",
      "1100-th iteration: 0.14224171851005585\n",
      "1200-th iteration: 0.12568335560194888\n",
      "1300-th iteration: 0.1124646835256835\n",
      "1400-th iteration: 0.10096638994519555\n",
      "1500-th iteration: 0.09027615716188325\n",
      "1600-th iteration: 0.08055939405383236\n",
      "1700-th iteration: 0.07232660633489052\n",
      "1800-th iteration: 0.06571522847915048\n",
      "1900-th iteration: 0.06051974873811743\n"
     ]
    },
    {
     "data": {
      "image/png": "[encoded data removed]",
      "text/plain": [
       "<Figure size 432x288 with 1 Axes>"
      ]
     },
     "metadata": {
      "needs_background": "light"
     },
     "output_type": "display_data"
    }
   ],
   "source": [
    "cls.fit(X_train, Y_train_transf)"
   ]
  },
  {
   "cell_type": "code",
   "execution_count": 10,
   "metadata": {},
   "outputs": [
    {
     "name": "stdout",
     "output_type": "stream",
     "text": [
      "{'W1': array([[-4.75779860e-03, -3.53851034e-01,  1.05082769e-03,\n",
      "        -3.93968233e-02],\n",
      "       [ 3.10691581e-01, -5.66894449e-01,  1.60788736e-01,\n",
      "         3.68389196e-01],\n",
      "       [-1.63759267e+00,  6.64112037e-01, -9.40973550e-01,\n",
      "        -2.03754459e+00],\n",
      "       [ 1.19826419e+00, -8.97959188e-02,  8.54443796e-01,\n",
      "         2.20494387e+00],\n",
      "       [-3.02682969e-01,  2.70872212e-01, -1.78330485e-01,\n",
      "        -4.34872061e-01],\n",
      "       [ 3.45544845e-01, -2.78967496e-01,  1.86185375e-01,\n",
      "         4.38796918e-01],\n",
      "       [ 1.57090434e-01, -1.92748944e-01,  9.67074194e-02,\n",
      "         1.89778912e-01],\n",
      "       [-6.45401005e-02, -4.02743088e-01, -2.33520953e-02,\n",
      "        -1.13581853e-01],\n",
      "       [-2.07364740e-01,  5.44735369e-02, -1.11932591e-01,\n",
      "        -2.71653543e-01],\n",
      "       [ 8.90710521e-01, -4.87559637e-01,  1.55093530e+00,\n",
      "         4.03636630e+00],\n",
      "       [ 3.95587661e-02, -4.26911210e-02,  1.88129677e-02,\n",
      "         1.70491307e-02],\n",
      "       [ 1.53958268e-01, -5.46724363e-01,  7.65474990e-02,\n",
      "         1.58870627e-01],\n",
      "       [ 1.50405046e-01, -1.27960285e-01,  9.37984787e-02,\n",
      "         1.64472451e-01],\n",
      "       [ 1.30640095e-02, -2.23732289e-01,  2.04010473e-02,\n",
      "         2.99107360e-02],\n",
      "       [ 9.47038154e-02, -3.28916462e-01,  6.44671263e-02,\n",
      "         1.50700619e-01]]), 'b1': array([[ 0.22802687],\n",
      "       [ 0.42904039],\n",
      "       [ 0.7516373 ],\n",
      "       [ 0.59398162],\n",
      "       [ 0.14366711],\n",
      "       [ 0.31369352],\n",
      "       [ 0.19714798],\n",
      "       [ 0.24793773],\n",
      "       [ 0.12308327],\n",
      "       [-0.09256471],\n",
      "       [ 0.10401341],\n",
      "       [ 0.34953973],\n",
      "       [ 0.16242573],\n",
      "       [ 0.17633613],\n",
      "       [ 0.24232947]]), 'W2': array([[-0.25618323, -0.65037455,  4.63626048, -0.97695702,  0.28864848,\n",
      "        -0.61266457, -0.42210033, -0.19763201,  0.09073153, -1.37689182,\n",
      "        -0.2232707 , -0.49220423, -0.38474903, -0.2724044 , -0.41622988],\n",
      "       [ 0.57038659,  0.72351908, -2.36910433,  0.26473744,  0.18163151,\n",
      "         0.5551516 ,  0.48615773,  0.5812909 ,  0.29966755, -2.02379549,\n",
      "         0.37736271,  0.69271373,  0.43913981,  0.50082423,  0.56396377],\n",
      "       [-0.31223571, -0.079568  , -2.25813037,  0.69917526, -0.45445695,\n",
      "         0.06681839, -0.07680316, -0.39844376, -0.40834112,  3.38950535,\n",
      "        -0.15937613, -0.21421176, -0.06659824, -0.21970573, -0.16763874]]), 'b2': array([[-1.26479796],\n",
      "       [ 1.86418868],\n",
      "       [-0.59939073]])}\n"
     ]
    }
   ],
   "source": [
    "print(cls.parameters)"
   ]
  },
  {
   "cell_type": "code",
   "execution_count": 11,
   "metadata": {},
   "outputs": [
    {
     "data": {
      "text/plain": [
       "array([[0.01818971, 0.81102495, 0.17078535],\n",
       "       [0.01970919, 0.86677032, 0.11352049],\n",
       "       [0.0118629 , 0.30785299, 0.68028411],\n",
       "       [0.00444886, 0.05567454, 0.9398766 ],\n",
       "       [0.00571989, 0.08211421, 0.9121659 ],\n",
       "       [0.97720941, 0.02081646, 0.00197413],\n",
       "       [0.00671759, 0.11166815, 0.88161425],\n",
       "       [0.00532172, 0.0754097 , 0.91926858],\n",
       "       [0.0044925 , 0.05676861, 0.93873889],\n",
       "       [0.00524051, 0.07343705, 0.92132244],\n",
       "       [0.97644064, 0.02152541, 0.00203395],\n",
       "       [0.9760066 , 0.02192569, 0.00206772],\n",
       "       [0.02574129, 0.89414485, 0.08011386],\n",
       "       [0.89987796, 0.09281613, 0.00730591],\n",
       "       [0.01820375, 0.60611481, 0.37568144],\n",
       "       [0.977706  , 0.02035846, 0.00193554],\n",
       "       [0.01592516, 0.57047519, 0.41359965],\n",
       "       [0.01275173, 0.2853551 , 0.70189316],\n",
       "       [0.00607772, 0.08902041, 0.90490187],\n",
       "       [0.00485354, 0.0646102 , 0.93053626],\n",
       "       [0.01641628, 0.44470562, 0.5388781 ],\n",
       "       [0.00566187, 0.08394729, 0.91039083],\n",
       "       [0.01841496, 0.94016558, 0.04141946],\n",
       "       [0.02004797, 0.68005245, 0.29989958],\n",
       "       [0.01889281, 0.70611917, 0.27498801],\n",
       "       [0.97726553, 0.02076457, 0.00196991],\n",
       "       [0.97730613, 0.02072714, 0.00196672],\n",
       "       [0.02017879, 0.77809216, 0.20172905],\n",
       "       [0.97600729, 0.02192516, 0.00206755],\n",
       "       [0.00929799, 0.18618635, 0.80451566],\n",
       "       [0.97701906, 0.02099203, 0.00198891],\n",
       "       [0.97689787, 0.02110388, 0.00199825],\n",
       "       [0.01903646, 0.49572062, 0.48524292],\n",
       "       [0.03091626, 0.9267442 , 0.04233954],\n",
       "       [0.00479817, 0.06334218, 0.93185965],\n",
       "       [0.97759276, 0.02046287, 0.00194437],\n",
       "       [0.00611067, 0.09501381, 0.89887552],\n",
       "       [0.97482262, 0.02301922, 0.00215816],\n",
       "       [0.02008078, 0.91968206, 0.06023716],\n",
       "       [0.01417727, 0.33703765, 0.64878509],\n",
       "       [0.97743139, 0.02061173, 0.00195688],\n",
       "       [0.00522571, 0.07310956, 0.92166473],\n",
       "       [0.01296056, 0.42744872, 0.55959072],\n",
       "       [0.00849656, 0.16032033, 0.8311831 ],\n",
       "       [0.00571738, 0.08525024, 0.90903238],\n",
       "       [0.01681733, 0.4936055 , 0.48957717],\n",
       "       [0.97740941, 0.02063195, 0.00195863],\n",
       "       [0.02219011, 0.93474629, 0.0430636 ],\n",
       "       [0.00590862, 0.08736288, 0.9067285 ],\n",
       "       [0.02243649, 0.89933018, 0.07823333],\n",
       "       [0.9760137 , 0.02191964, 0.00206666],\n",
       "       [0.00505372, 0.06857132, 0.92637496],\n",
       "       [0.01640145, 0.73638099, 0.24721756],\n",
       "       [0.0258606 , 0.8970154 , 0.07712401],\n",
       "       [0.97745168, 0.02059295, 0.00195537],\n",
       "       [0.97715735, 0.02086431, 0.00197834],\n",
       "       [0.97731328, 0.02072054, 0.00196618],\n",
       "       [0.03133382, 0.81698336, 0.15168282],\n",
       "       [0.00622284, 0.0979597 , 0.89581746],\n",
       "       [0.00784216, 0.13749173, 0.85466611],\n",
       "       [0.01819579, 0.74554646, 0.23625776],\n",
       "       [0.97709911, 0.0209181 , 0.00198278],\n",
       "       [0.97755381, 0.02049878, 0.00194742],\n",
       "       [0.97698202, 0.02102605, 0.00199193],\n",
       "       [0.00506063, 0.06904771, 0.92589166],\n",
       "       [0.00654826, 0.09988711, 0.89356463],\n",
       "       [0.01938092, 0.87971948, 0.10089959],\n",
       "       [0.01758122, 0.93689327, 0.04552551],\n",
       "       [0.0074171 , 0.13042881, 0.86215409],\n",
       "       [0.00633078, 0.09946223, 0.89420699],\n",
       "       [0.00995979, 0.19328227, 0.79675794],\n",
       "       [0.01873329, 0.60679942, 0.37446728],\n",
       "       [0.01879262, 0.84868518, 0.13252221],\n",
       "       [0.97674352, 0.02124606, 0.00201043],\n",
       "       [0.97733374, 0.02070173, 0.00196453],\n",
       "       [0.02106115, 0.90099037, 0.07794848],\n",
       "       [0.97420603, 0.02358754, 0.00220643],\n",
       "       [0.97766727, 0.02039417, 0.00193856],\n",
       "       [0.00983817, 0.194552  , 0.79560983],\n",
       "       [0.02263735, 0.93797477, 0.03938788],\n",
       "       [0.97659024, 0.02138727, 0.00202249],\n",
       "       [0.97703554, 0.0209767 , 0.00198776],\n",
       "       [0.97640933, 0.02155423, 0.00203644],\n",
       "       [0.03519151, 0.9241663 , 0.0406422 ],\n",
       "       [0.9745422 , 0.02327703, 0.00218077],\n",
       "       [0.01777445, 0.75769071, 0.22453484],\n",
       "       [0.97628706, 0.02166754, 0.0020454 ],\n",
       "       [0.01871003, 0.90793905, 0.07335093],\n",
       "       [0.01626779, 0.4292541 , 0.55447811],\n",
       "       [0.97633749, 0.02162087, 0.00204164],\n",
       "       [0.01681756, 0.60805625, 0.37512619],\n",
       "       [0.0184538 , 0.91942364, 0.06212255],\n",
       "       [0.0056369 , 0.08271478, 0.91164833],\n",
       "       [0.97419046, 0.02360292, 0.00220662],\n",
       "       [0.01028068, 0.20566326, 0.78405607],\n",
       "       [0.97735565, 0.02068166, 0.00196269],\n",
       "       [0.01851515, 0.93429799, 0.04718687],\n",
       "       [0.01118817, 0.25956957, 0.72924226],\n",
       "       [0.00512259, 0.07079514, 0.92408228],\n",
       "       [0.00520136, 0.07245932, 0.92233933],\n",
       "       [0.9776236 , 0.02043443, 0.00194197],\n",
       "       [0.01506925, 0.9395333 , 0.04539744],\n",
       "       [0.00559288, 0.08203891, 0.91236821],\n",
       "       [0.00740204, 0.13167764, 0.86092032],\n",
       "       [0.03865366, 0.89280286, 0.06854348],\n",
       "       [0.01681032, 0.519096  , 0.46409368],\n",
       "       [0.0047076 , 0.06135209, 0.93394031],\n",
       "       [0.97722229, 0.02080443, 0.00197328],\n",
       "       [0.00522107, 0.07281829, 0.92196064],\n",
       "       [0.97715921, 0.02086265, 0.00197814],\n",
       "       [0.9772009 , 0.02082421, 0.00197489],\n",
       "       [0.01923609, 0.89806465, 0.08269925],\n",
       "       [0.97649751, 0.02147348, 0.00202901],\n",
       "       [0.00495195, 0.06670882, 0.92833922],\n",
       "       [0.00762453, 0.12925342, 0.86312205],\n",
       "       [0.00534818, 0.07312641, 0.9215254 ],\n",
       "       [0.03134403, 0.90422897, 0.064427  ],\n",
       "       [0.97750947, 0.02053966, 0.00195088],\n",
       "       [0.00987898, 0.22294401, 0.76717702],\n",
       "       [0.97651701, 0.02145525, 0.00202775]])"
      ]
     },
     "execution_count": 11,
     "metadata": {},
     "output_type": "execute_result"
    }
   ],
   "source": [
    "Y_prob = cls.predict_proba(X_train)\n",
    "Y_prob"
   ]
  },
  {
   "cell_type": "code",
   "execution_count": 12,
   "metadata": {},
   "outputs": [
    {
     "data": {
      "text/plain": [
       "array([1, 1, 2, 2, 2, 0, 2, 2, 2, 2, 0, 0, 1, 0, 1, 0, 1, 2, 2, 2, 2, 2,\n",
       "       1, 1, 1, 0, 0, 1, 0, 2, 0, 0, 1, 1, 2, 0, 2, 0, 1, 2, 0, 2, 2, 2,\n",
       "       2, 1, 0, 1, 2, 1, 0, 2, 1, 1, 0, 0, 0, 1, 2, 2, 1, 0, 0, 0, 2, 2,\n",
       "       1, 1, 2, 2, 2, 1, 1, 0, 0, 1, 0, 0, 2, 1, 0, 0, 0, 1, 0, 1, 0, 1,\n",
       "       2, 0, 1, 1, 2, 0, 2, 0, 1, 2, 2, 2, 0, 1, 2, 2, 1, 1, 2, 0, 2, 0,\n",
       "       0, 1, 0, 2, 2, 2, 1, 0, 2, 0], dtype=int64)"
      ]
     },
     "execution_count": 12,
     "metadata": {},
     "output_type": "execute_result"
    }
   ],
   "source": [
    "Y_train_hat = cls.predict(X_train)\n",
    "Y_train_hat"
   ]
  },
  {
   "cell_type": "code",
   "execution_count": 13,
   "metadata": {},
   "outputs": [
    {
     "data": {
      "text/plain": [
       "0.9416666666666667"
      ]
     },
     "execution_count": 13,
     "metadata": {},
     "output_type": "execute_result"
    }
   ],
   "source": [
    "accuracy_score(Y_train, Y_train_hat)"
   ]
  },
  {
   "cell_type": "code",
   "execution_count": 14,
   "metadata": {},
   "outputs": [
    {
     "data": {
      "text/plain": [
       "array([1, 2, 0, 1, 0, 1, 2, 1, 0, 1, 1, 2, 1, 0, 0, 2, 1, 0, 0, 0, 2, 2,\n",
       "       2, 0, 1, 0, 1, 1, 1, 2], dtype=int64)"
      ]
     },
     "execution_count": 14,
     "metadata": {},
     "output_type": "execute_result"
    }
   ],
   "source": [
    "Y_test_hat = cls.predict(X_test)\n",
    "Y_test_hat"
   ]
  },
  {
   "cell_type": "code",
   "execution_count": 15,
   "metadata": {},
   "outputs": [
    {
     "data": {
      "text/plain": [
       "0.9666666666666667"
      ]
     },
     "execution_count": 15,
     "metadata": {},
     "output_type": "execute_result"
    }
   ],
   "source": [
    "accuracy_score(Y_test, Y_test_hat)"
   ]
  }
 ],
 "metadata": {
  "anaconda-cloud": {},
  "kernelspec": {
   "display_name": "Python 3",
   "language": "python",
   "name": "python3"
  },
  "language_info": {
   "codemirror_mode": {
    "name": "ipython",
    "version": 3
   },
   "file_extension": ".py",
   "mimetype": "text/x-python",
   "name": "python",
   "nbconvert_exporter": "python",
   "pygments_lexer": "ipython3",
   "version": "3.6.8"
  }
 },
 "nbformat": 4,
 "nbformat_minor": 1
}
